{
 "cells": [
  {
   "cell_type": "code",
   "execution_count": 1,
   "id": "15e880bf-a897-4f77-80f5-cec285cf1ffd",
   "metadata": {},
   "outputs": [],
   "source": [
    "import numpy as np\n",
    "import pandas as pd\n",
    "import matplotlib.pyplot as plt\n",
    "from DataFields import DataFields\n",
    "from DataFields import DateReportedFields\n",
    "from ProjectFunctions import get_columns_from_chunk, convert_date_to_binary, drop_rows_with_na_greater_than\n",
    "from ProjectFunctions import map_education_levels, map_vascular_levels\n",
    "\n",
    "from typing import Callable, Any\n",
    "\n",
    "UKBB_PATH = \"~/biobank/ukb672220.csv\"\n",
    "\n",
    "# A dictionary containing the used features\n",
    "datafields = DataFields\n",
    "\n",
    "# Features of conditions specified by date\n",
    "datereportedfields = DateReportedFields"
   ]
  },
  {
   "cell_type": "markdown",
   "id": "b8e49da3-8794-487a-a16d-f8c901dfa2b7",
   "metadata": {},
   "source": [
    "#### Measure the distribution of age"
   ]
  },
  {
   "cell_type": "code",
   "execution_count": 2,
   "id": "5a730a70-d42e-41ea-8b6e-42ddf207f9fa",
   "metadata": {},
   "outputs": [
    {
     "data": {
      "image/png": "[encoded data removed]",
      "text/plain": [
       "<Figure size 640x480 with 1 Axes>"
      ]
     },
     "metadata": {},
     "output_type": "display_data"
    }
   ],
   "source": [
    "df = pd.read_csv(\"diagnosed_processed.csv\")\n",
    "\n",
    "# plot histogram of the birth year\n",
    "df[\"Birth Year\"].plot(kind='hist', bins=10, edgecolor='black')\n",
    "birth_year_counts_histogram, birth_year_histogram_edges = np.histogram(df[\"Birth Year\"], bins=10)"
   ]
  },
  {
   "cell_type": "markdown",
   "id": "7a4462b4-4ef6-4214-824c-e857d8929294",
   "metadata": {},
   "source": [
    "#### Extract samples of patients undiagnosed with vascular dementia with similar birth year"
   ]
  },
  {
   "cell_type": "markdown",
   "id": "6d803e75-a256-461d-b16a-565973c72d05",
   "metadata": {},
   "source": [
    "##### Define features to drop if na"
   ]
  },
  {
   "cell_type": "code",
   "execution_count": 3,
   "id": "93b447d9-1529-48ba-9310-d93cb43a1733",
   "metadata": {},
   "outputs": [],
   "source": [
    "drop_if_na_list = [\n",
    "    \"Smoking Status\",\n",
    "    \"Education\",\n",
    "    \"Ever Smoked\",\n",
    "    \"Report of vascular problems\",\n",
    "    \"Diabetes Diagnosed By Doctor\",\n",
    "    \"Report of stroke\",\n",
    "    \n",
    "    \"Seropositive Rheumatoid Arthritis\",\n",
    "    \"Other Rheumatoid Arthritis\",\n",
    "    \"Juvenile Arthritis\",\n",
    "    \"Other Arthritis\",\n",
    "    \"Psoriatic and enteropathic arthropathies\",\n",
    "    \"Multiple Sclerosis\",\n",
    "    \"Crohn's disease\",\n",
    "    \"Ulcerative Colitis\",\n",
    "    \"Thyrotoxicosis (Grave's disease)\",\n",
    "    \"Sjogren Disease (M35)\",\n",
    "    \"Myasthenia gravis\",\n",
    "    \"Diagnosed with Coeliac disease\",\n",
    "    \"B12 deficiency anaemia\",\n",
    "    \n",
    "    \"Alanine aminotransferase\",\n",
    "    \"Albumin\",\n",
    "    \"Alkaline phosphatase\",\n",
    "    \"Apolipoprotein A\",\n",
    "    \"Apolipoprotein B\",\n",
    "    \"Aspartate aminotransferase\",\n",
    "    \"C-reactive protein\",\n",
    "    \"Calcium\",\n",
    "    \"Cholesterol\",\n",
    "    \"Creatinine\",\n",
    "    \"Cystatin C\",\n",
    "    \"Direct bilirubin\",\n",
    "    \"Gamma glutamyltransferase\",\n",
    "    \"Glucose\",\n",
    "    \"Glycated haemoglobin (HbA1c)\",\n",
    "    \"HDL cholesterol\",\n",
    "    \"IGF-1\",\n",
    "    \"LDL direct\",\n",
    "    \"Lipoprotein A\",\n",
    "    \"Phosphate\",\n",
    "    \"SHBG\",\n",
    "    \"Testosterone\",\n",
    "    \"Total bilirubin\",\n",
    "    \"Total protein\",\n",
    "    \"Triglycerides\",\n",
    "    \"Urate\",\n",
    "    \"Urea\",\n",
    "    \"Vitamin D\",\n",
    "    \n",
    "    \"Basophil count\",\n",
    "    \"Basophil percentage\",\n",
    "    \"Eosinophil count\",\n",
    "    \"Eosinophil percentage\",\n",
    "    \"Haematocrit percentage\",\n",
    "    \"Haemoglobin concentration\",\n",
    "    \"High light scatter reticulocyte count\",\n",
    "    \"High light scatter reticulocyte percentage\",\n",
    "    \"Immature reticulocyte fraction\",\n",
    "    \"Lymphocyte count\",\n",
    "    \"Lymphocyte percentage\",\n",
    "    \"Mean corpuscular haemoglobin\",\n",
    "    \"Mean corpuscular haemoglobin concentration\",\n",
    "    \"Mean corpuscular volume\",\n",
    "    \"Mean platelet (thrombocyte) volume\",\n",
    "    \"Mean reticulocyte volume\",\n",
    "    \"Mean sphered cell volume\",\n",
    "    \"Monocyte count\",\n",
    "    \"Monocyte percentage\",\n",
    "    \"Neutrophil count\",\n",
    "    \"Neutrophil percentage\",\n",
    "    \"Nucleated red blood cell count\",\n",
    "    \"Nucleated red blood cell percentage\",\n",
    "    \"Platelet count\",\n",
    "    \"Platelet crit\",\n",
    "    \"Platelet distribution width\",\n",
    "    \"Red blood cell (erythrocyte) count\",\n",
    "    \"Red blood cell (erythrocyte) distribution width\",\n",
    "    \"Reticulocyte count\",\n",
    "    \"Reticulocyte percentage\",\n",
    "    \"White blood cell (leukocyte) count\",\n",
    "    \"Blood Pressure Diastolic\",\n",
    "    \"Blood Pressure Systolic\",\n",
    "    \"Pulse Rate at Blood Pressure\"\n",
    "]"
   ]
  },
  {
   "cell_type": "markdown",
   "id": "c43a85fc-28a9-432d-bf7d-e1923817369e",
   "metadata": {},
   "source": [
    "##### Do this"
   ]
  },
  {
   "cell_type": "code",
   "execution_count": 4,
   "id": "d1619ec4-b181-487a-9765-aafe8caff2c9",
   "metadata": {},
   "outputs": [],
   "source": [
    "# vd_1 and vd_2 used to drop diagnosed patients\n",
    "vd_1 = \"Vascular Dementia Date First Reported\"\n",
    "vd_2 = \"Date of vascular dementia report\"\n",
    "\n",
    "def filter_chunk(chunk):\n",
    "    # remove unnecessary columns first.\n",
    "    chunk = get_columns_from_chunk(chunk, datafields, oldest=True)\n",
    "\n",
    "    chunk = map_education_levels(chunk)\n",
    "    \n",
    "    chunk[\"Report of vascular problems\"] = chunk[\"Report of vascular problems\"].replace({-7: 0, -3: pd.NA})\n",
    "\n",
    "    # take only patients undiagnosed with vascular dementia\n",
    "    chunk[chunk[vd_1].isna() & chunk[vd_2].isna()] \n",
    "    \n",
    "    # filter by condition function\n",
    "    mask = condition_function(chunk[column])\n",
    "    filtered_chunk = chunk.loc[mask]\n",
    "    \n",
    "    # convert items with value less than 0 to NA\n",
    "    #filtered_chunk = filtered_chunk.mask(filtered_chunk.select_dtypes(include='number') < 0)\n",
    "    \n",
    "    # drop all NA\n",
    "    filtered_chunk = filtered_chunk.dropna(subset=drop_if_na_list) # drop if missing value for some columns\n",
    "\n",
    "    return filtered_chunk\n"
   ]
  },
  {
   "cell_type": "code",
   "execution_count": 5,
   "id": "f41e3b87-c676-4a41-aaf3-327f79877ac8",
   "metadata": {},
   "outputs": [],
   "source": [
    "# Sample \"count\" rows from dataframe following a condtion by chunks randomly.\n",
    "def sample_by_condition(file_path, column, condition_function, count, samples_per_chunk, vd_cols, chunksize=20000):\n",
    "    result = pd.DataFrame()\n",
    "    samples_collected = 0\n",
    "    \n",
    "    for chunk in pd.read_csv(file_path, chunksize=chunksize, low_memory=False):\n",
    "            \n",
    "        filtered_chunk = filter_chunk(chunk)\n",
    "        \n",
    "        if filtered_chunk.empty:\n",
    "            continue\n",
    "        \n",
    "        remaining_samples = count - samples_collected\n",
    "        if remaining_samples <= 0:\n",
    "            break\n",
    "            \n",
    "        # choose randomly if too many were collected\n",
    "        k = min(samples_per_chunk, len(filtered_chunk))\n",
    "        chunk_sample = filtered_chunk.sample(n=k)\n",
    "    \n",
    "        if result.empty:\n",
    "            result = chunk_sample\n",
    "        else:\n",
    "            result = pd.concat([result, chunk_sample], ignore_index=True, copy=False)\n",
    "\n",
    "        samples_collected += len(chunk_sample)\n",
    "\n",
    "        if samples_collected >= count:\n",
    "            break\n",
    "            \n",
    "    if samples_collected > count:\n",
    "        return result.sample(n=count)\n",
    "    else:\n",
    "        return result"
   ]
  },
  {
   "cell_type": "code",
   "execution_count": 6,
   "id": "78765fb3-7fdc-41b6-a2da-b9ff4bd73f22",
   "metadata": {},
   "outputs": [
    {
     "ename": "NameError",
     "evalue": "name 'vd_cols' is not defined",
     "output_type": "error",
     "traceback": [
      "\u001b[0;31m---------------------------------------------------------------------------\u001b[0m",
      "\u001b[0;31mNameError\u001b[0m                                 Traceback (most recent call last)",
      "Cell \u001b[0;32mIn[6], line 14\u001b[0m\n\u001b[1;32m     11\u001b[0m     start, end \u001b[38;5;241m=\u001b[39m birth_year_histogram_edges[i], birth_year_histogram_edges[i\u001b[38;5;241m+\u001b[39m\u001b[38;5;241m1\u001b[39m]\n\u001b[1;32m     12\u001b[0m     count \u001b[38;5;241m=\u001b[39m birth_year_counts_histogram[i]\n\u001b[0;32m---> 14\u001b[0m     df \u001b[38;5;241m=\u001b[39m \u001b[43msample_by_condition\u001b[49m\u001b[43m(\u001b[49m\u001b[43mUKBB_PATH\u001b[49m\u001b[43m,\u001b[49m\u001b[43m \u001b[49m\n\u001b[1;32m     15\u001b[0m \u001b[43m                             \u001b[49m\u001b[43mcol_name\u001b[49m\u001b[43m,\u001b[49m\u001b[43m \u001b[49m\n\u001b[1;32m     16\u001b[0m \u001b[43m                             \u001b[49m\u001b[38;5;28;43;01mlambda\u001b[39;49;00m\u001b[43m \u001b[49m\u001b[43mx\u001b[49m\u001b[43m:\u001b[49m\u001b[43m(\u001b[49m\u001b[43mx\u001b[49m\u001b[43m \u001b[49m\u001b[38;5;241;43m>\u001b[39;49m\u001b[38;5;241;43m=\u001b[39;49m\u001b[43m \u001b[49m\u001b[43mstart\u001b[49m\u001b[43m)\u001b[49m\u001b[43m \u001b[49m\u001b[38;5;241;43m&\u001b[39;49m\u001b[43m \u001b[49m\u001b[43m(\u001b[49m\u001b[43mx\u001b[49m\u001b[43m \u001b[49m\u001b[38;5;241;43m<\u001b[39;49m\u001b[43m \u001b[49m\u001b[43mend\u001b[49m\u001b[43m)\u001b[49m\u001b[43m,\u001b[49m\u001b[43m \u001b[49m\n\u001b[1;32m     17\u001b[0m \u001b[43m                             \u001b[49m\u001b[43mcount\u001b[49m\u001b[43m \u001b[49m\u001b[38;5;241;43m+\u001b[39;49m\u001b[43m \u001b[49m\u001b[43mconst\u001b[49m\u001b[43m,\u001b[49m\u001b[43m \u001b[49m\n\u001b[1;32m     18\u001b[0m \u001b[43m                             \u001b[49m\u001b[43mper_chunk\u001b[49m\u001b[43m,\u001b[49m\u001b[43m \u001b[49m\n\u001b[1;32m     19\u001b[0m \u001b[43m                             \u001b[49m\u001b[43m[\u001b[49m\u001b[43mvd_1\u001b[49m\u001b[43m,\u001b[49m\u001b[43m \u001b[49m\u001b[43mvd_2\u001b[49m\u001b[43m]\u001b[49m\u001b[43m)\u001b[49m\n\u001b[1;32m     21\u001b[0m     undiagnosed_df \u001b[38;5;241m=\u001b[39m pd\u001b[38;5;241m.\u001b[39mconcat([undiagnosed_df, df], ignore_index\u001b[38;5;241m=\u001b[39m\u001b[38;5;28;01mTrue\u001b[39;00m)\n\u001b[1;32m     23\u001b[0m \u001b[38;5;66;03m# drop vascular dementia columns\u001b[39;00m\n",
      "Cell \u001b[0;32mIn[5], line 8\u001b[0m, in \u001b[0;36msample_by_condition\u001b[0;34m(file_path, column, condition_function, count, samples_per_chunk, vd_cols, chunksize)\u001b[0m\n\u001b[1;32m      4\u001b[0m samples_collected \u001b[38;5;241m=\u001b[39m \u001b[38;5;241m0\u001b[39m\n\u001b[1;32m      6\u001b[0m \u001b[38;5;28;01mfor\u001b[39;00m chunk \u001b[38;5;129;01min\u001b[39;00m pd\u001b[38;5;241m.\u001b[39mread_csv(file_path, chunksize\u001b[38;5;241m=\u001b[39mchunksize, low_memory\u001b[38;5;241m=\u001b[39m\u001b[38;5;28;01mFalse\u001b[39;00m):\n\u001b[0;32m----> 8\u001b[0m     filtered_chunk \u001b[38;5;241m=\u001b[39m \u001b[43mfilter_chunk\u001b[49m\u001b[43m(\u001b[49m\u001b[43mchunk\u001b[49m\u001b[43m)\u001b[49m\n\u001b[1;32m     10\u001b[0m     \u001b[38;5;28;01mif\u001b[39;00m filtered_chunk\u001b[38;5;241m.\u001b[39mempty:\n\u001b[1;32m     11\u001b[0m         \u001b[38;5;28;01mcontinue\u001b[39;00m\n",
      "Cell \u001b[0;32mIn[4], line 10\u001b[0m, in \u001b[0;36mfilter_chunk\u001b[0;34m(chunk)\u001b[0m\n\u001b[1;32m      7\u001b[0m chunk[\u001b[38;5;124m\"\u001b[39m\u001b[38;5;124mReport of vascular problems\u001b[39m\u001b[38;5;124m\"\u001b[39m] \u001b[38;5;241m=\u001b[39m chunk[\u001b[38;5;124m\"\u001b[39m\u001b[38;5;124mReport of vascular problems\u001b[39m\u001b[38;5;124m\"\u001b[39m]\u001b[38;5;241m.\u001b[39mreplace({\u001b[38;5;241m-\u001b[39m\u001b[38;5;241m7\u001b[39m: \u001b[38;5;241m0\u001b[39m, \u001b[38;5;241m-\u001b[39m\u001b[38;5;241m3\u001b[39m: pd\u001b[38;5;241m.\u001b[39mNA})\n\u001b[1;32m      9\u001b[0m \u001b[38;5;66;03m# take only patients undiagnosed with vascular dementia\u001b[39;00m\n\u001b[0;32m---> 10\u001b[0m chunk[chunk[\u001b[43mvd_cols\u001b[49m]\u001b[38;5;241m.\u001b[39misna()\u001b[38;5;241m.\u001b[39mall(axis\u001b[38;5;241m=\u001b[39m\u001b[38;5;241m1\u001b[39m)] \n\u001b[1;32m     12\u001b[0m \u001b[38;5;66;03m# filter by condition function\u001b[39;00m\n\u001b[1;32m     13\u001b[0m mask \u001b[38;5;241m=\u001b[39m condition_function(chunk[column])\n",
      "\u001b[0;31mNameError\u001b[0m: name 'vd_cols' is not defined"
     ]
    }
   ],
   "source": [
    "per_chunk = 500 # maximum samples to take from a single chunk per histogram column\n",
    "col_name = \"Birth Year\" # The column to use as a rule for \"sample_by_condition\"\n",
    "\n",
    "const = 20 # constant addition per histogram\n",
    "\n",
    "undiagnosed_df = pd.DataFrame()\n",
    "\n",
    "for i in range(len(birth_year_counts_histogram)):\n",
    "    start, end = birth_year_histogram_edges[i], birth_year_histogram_edges[i+1]\n",
    "    count = birth_year_counts_histogram[i]\n",
    "    \n",
    "    df = sample_by_condition(UKBB_PATH, \n",
    "                             col_name, \n",
    "                             lambda x:(x >= start) & (x < end), \n",
    "                             count + const, \n",
    "                             per_chunk, \n",
    "                             [vd_1, vd_2])\n",
    "    \n",
    "    undiagnosed_df = pd.concat([undiagnosed_df, df], ignore_index=True)\n",
    "\n",
    "# drop vascular dementia columns\n",
    "undiagnosed_df = undiagnosed_df.drop(columns=[vd_1, vd_2])\n",
    "\n",
    "# assign undiagnosed\n",
    "undiagnosed_df[\"Vascular Dementia Report Date\"] = pd.NA\n",
    "\n",
    "# drop id column\n",
    "undiagnosed_df = undiagnosed_df.drop(columns=[\"id\"])"
   ]
  },
  {
   "cell_type": "markdown",
   "id": "3b7f6d77-248b-441b-b20e-b43640e382cd",
   "metadata": {},
   "source": [
    "#### Save the CSV, and analyse the extracted data"
   ]
  },
  {
   "cell_type": "code",
   "execution_count": null,
   "id": "8c178ec1-9dea-4812-8ce5-8229f3f407fb",
   "metadata": {},
   "outputs": [],
   "source": [
    "from ProjectFunctions import count_na_in_dataframe\n",
    "\n",
    "# count number of NA per column\n",
    "count_na_in_dataframe(undiagnosed_df)\n",
    "\n",
    "# Plot Brith Year histogram, compare with diagnosed patients\n",
    "undiagnosed_df[\"Birth Year\"].plot(kind='hist', bins=10, edgecolor='black')\n",
    "\n",
    "undiagnosed_df.to_csv(\"undiagnosed.csv\", index=False)\n",
    "\n",
    "# analyze distributions\n",
    "undiagnosed_df.describe()"
   ]
  }
 ],
 "metadata": {
  "kernelspec": {
   "display_name": "Python 3 (ipykernel)",
   "language": "python",
   "name": "python3"
  },
  "language_info": {
   "codemirror_mode": {
    "name": "ipython",
    "version": 3
   },
   "file_extension": ".py",
   "mimetype": "text/x-python",
   "name": "python",
   "nbconvert_exporter": "python",
   "pygments_lexer": "ipython3",
   "version": "3.10.16"
  }
 },
 "nbformat": 4,
 "nbformat_minor": 5
}
