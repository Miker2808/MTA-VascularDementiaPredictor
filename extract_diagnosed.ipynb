{
 "cells": [
  {
   "cell_type": "markdown",
   "id": "1ec491af-8413-4898-9d70-9d2017f22e28",
   "metadata": {},
   "source": [
    "#### Define the used fields from the UK biobank, and extract the patients diagnosed with vascular dementia"
   ]
  },
  {
   "cell_type": "code",
   "execution_count": null,
   "id": "de5a517a",
   "metadata": {},
   "outputs": [],
   "source": [
    "import numpy as np\n",
    "import pandas as pd\n",
    "import matplotlib.pyplot as plt\n",
    "from DataFields import DataFields\n",
    "from ProjectFunctions import get_columns_from_chunk\n",
    "\n",
    "UKBB_PATH = \"~/biobank/ukb672220.csv\"\n",
    "\n",
    "VD_COL = \"Vascular Dementia Report Date\"\n",
    "\n",
    "# A dictionary containing the used features\n",
    "datafields = DataFields"
   ]
  },
  {
   "cell_type": "code",
   "execution_count": null,
   "id": "ee1dd430-2e25-456e-8d35-c57de4f5d354",
   "metadata": {},
   "outputs": [],
   "source": [
    "# Filter by rows to extract patients with vascular dementia\n",
    "def filter_by_column(chunk, column):\n",
    "    # Filter rows where either col_1_filter or col_2_filter is not NaN\n",
    "    filter_mask = chunk[column].notna()\n",
    "    filtered_chunk = chunk[filter_mask].copy()\n",
    "    # Combine dates and add the new columns\n",
    "    filtered_chunk.loc[:, column] = pd.to_datetime(\n",
    "        filtered_chunk[column], errors=\"coerce\"\n",
    "        )\n",
    "\n",
    "    filtered_chunk.loc[:, column] = filtered_chunk[column].where(\n",
    "            filtered_chunk[column].between(pd.Timestamp(\"1950-01-01\"), pd.Timestamp(\"2030-12-31\"))\n",
    "        )\n",
    "    return filtered_chunk"
   ]
  },
  {
   "cell_type": "markdown",
   "id": "5be6929a-cc5f-4bd1-a66c-c0af4419b432",
   "metadata": {},
   "source": [
    "#### Extract rows diagnosed with vascular dementia"
   ]
  },
  {
   "cell_type": "code",
   "execution_count": null,
   "id": "cffde9dd-57be-447d-b602-e0ce63947d42",
   "metadata": {
    "editable": true,
    "scrolled": true,
    "slideshow": {
     "slide_type": ""
    },
    "tags": []
   },
   "outputs": [],
   "source": [
    "chunk_size = 10000\n",
    "result_df = pd.DataFrame()\n",
    "\n",
    "for chunk in pd.read_csv(UKBB_PATH, chunksize=chunk_size, low_memory=False):\n",
    "    \n",
    "    filtered_chunk = get_columns_from_chunk(chunk, datafields, oldest=True)\n",
    "\n",
    "    filtered_chunk = filter_by_column(filtered_chunk, VD_COL)\n",
    "    result_df = pd.concat([result_df, filtered_chunk], ignore_index=True)\n",
    "\n",
    "# Save the result\n",
    "result_df.to_csv('diagnosed.csv', index=False)\n",
    "\n",
    "result_df.describe()"
   ]
  }
 ],
 "metadata": {
  "kernelspec": {
   "display_name": "Python 3 (ipykernel)",
   "language": "python",
   "name": "python3"
  },
  "language_info": {
   "codemirror_mode": {
    "name": "ipython",
    "version": 3
   },
   "file_extension": ".py",
   "mimetype": "text/x-python",
   "name": "python",
   "nbconvert_exporter": "python",
   "pygments_lexer": "ipython3",
   "version": "3.10.13"
  }
 },
 "nbformat": 4,
 "nbformat_minor": 5
}
