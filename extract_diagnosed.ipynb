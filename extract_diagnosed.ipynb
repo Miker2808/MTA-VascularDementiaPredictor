{
 "cells": [
  {
   "cell_type": "markdown",
   "id": "1ec491af-8413-4898-9d70-9d2017f22e28",
   "metadata": {},
   "source": [
    "#### Define the used fields from the UK biobank, and extract the patients diagnosed with vascular dementia"
   ]
  },
  {
   "cell_type": "code",
   "execution_count": null,
   "id": "de5a517a",
   "metadata": {},
   "outputs": [],
   "source": [
    "import numpy as np\n",
    "import pandas as pd\n",
    "import matplotlib.pyplot as plt\n",
    "from DataFields import DataFields\n",
    "from DataFields import DateReportedFields\n",
    "from ProjectFunctions import get_columns_from_chunk\n",
    "\n",
    "UKBB_PATH = \"~/biobank/ukb672220.csv\"\n",
    "\n",
    "# A dictionary containing the used features\n",
    "datafields = DataFields\n",
    "\n",
    "# Features of conditions specified by date\n",
    "datereportedfields = DateReportedFields"
   ]
  },
  {
   "cell_type": "code",
   "execution_count": null,
   "id": "ee1dd430-2e25-456e-8d35-c57de4f5d354",
   "metadata": {},
   "outputs": [],
   "source": [
    "# Filter by rows to extract patients with vascular dementia\n",
    "def filter_by_vascular_dementia(chunk):\n",
    "    col_1_filter = \"Vascular Dementia Date First Reported\"\n",
    "    col_2_filter = \"Date of vascular dementia report\"\n",
    "    col_combined = \"Vascular Dementia Report Date\"\n",
    "    Y_col = \"Has Vascular Dementia\"\n",
    "    \n",
    "    # Filter rows where either col_1_filter or col_2_filter is not NaN\n",
    "    filtered_chunk = chunk[chunk[col_1_filter].notna() | chunk[col_2_filter].notna()].copy()  # Make a copy here\n",
    "    \n",
    "    # Combine dates and add the new columns\n",
    "    filtered_chunk.loc[:, col_combined] = pd.to_datetime(\n",
    "        filtered_chunk[col_1_filter].combine_first(filtered_chunk[col_2_filter]), errors=\"coerce\"\n",
    "    )\n",
    "    \n",
    "    # Filter by dates to remove unspecified entries\n",
    "    filtered_chunk.loc[:, Y_col] = (\n",
    "        filtered_chunk[col_combined]\n",
    "        .between(pd.Timestamp(\"1950-01-01\"), pd.Timestamp(\"2030-12-31\"))\n",
    "        .astype(int)\n",
    "    )\n",
    "\n",
    "    return filtered_chunk\n"
   ]
  },
  {
   "cell_type": "markdown",
   "id": "5be6929a-cc5f-4bd1-a66c-c0af4419b432",
   "metadata": {},
   "source": [
    "### Extract rows diagnosed with vascular dementia through the use of two fields"
   ]
  },
  {
   "cell_type": "code",
   "execution_count": null,
   "id": "cffde9dd-57be-447d-b602-e0ce63947d42",
   "metadata": {},
   "outputs": [],
   "source": [
    "chunk_size = 10000\n",
    "result_df = pd.DataFrame()\n",
    "\n",
    "for chunk in pd.read_csv(UKBB_PATH, chunksize=chunk_size, low_memory=False):\n",
    "\n",
    "    filtered_chunk = get_columns_from_chunk(chunk, datafields, oldest=True)\n",
    "\n",
    "    filtered_chunk = filter_by_vascular_dementia(filtered_chunk)\n",
    "    \n",
    "    result_df = pd.concat([result_df, filtered_chunk], ignore_index=True)\n",
    "\n",
    "col_1_filter = \"Vascular Dementia Date First Reported\"\n",
    "col_2_filter = \"Date of vascular dementia report\"\n",
    "col_combined = \"Vascular Dementia Report Date\"\n",
    "\n",
    "# Drop columns which are not necessary anymore\n",
    "result_df = result_df.drop(columns=[col_1_filter, col_2_filter, col_combined])\n",
    "\n",
    "# Save the result\n",
    "result_df.to_csv('diagnosed.csv', index=False)\n",
    "\n",
    "# Display the first 5 rows\n",
    "result_df.describe()"
   ]
  }
 ],
 "metadata": {
  "kernelspec": {
   "display_name": "Python 3 (ipykernel)",
   "language": "python",
   "name": "python3"
  },
  "language_info": {
   "codemirror_mode": {
    "name": "ipython",
    "version": 3
   },
   "file_extension": ".py",
   "mimetype": "text/x-python",
   "name": "python",
   "nbconvert_exporter": "python",
   "pygments_lexer": "ipython3",
   "version": "3.10.16"
  }
 },
 "nbformat": 4,
 "nbformat_minor": 5
}
