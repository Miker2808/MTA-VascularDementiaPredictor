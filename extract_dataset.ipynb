{
 "cells": [
  {
   "cell_type": "markdown",
   "id": "3e20529a-7105-4ddd-b67a-b376299dbc7e",
   "metadata": {},
   "source": [
    "#### Load data about patients diagnosed with vascular dementia"
   ]
  },
  {
   "cell_type": "code",
   "execution_count": null,
   "id": "de5a517a",
   "metadata": {},
   "outputs": [],
   "source": [
    "UKBB_PATH = \"~/biobank/ukb672220.csv\"\n",
    "\n",
    "from DataFields import DataFields\n",
    "\n",
    "datafields = DataFields\n"
   ]
  },
  {
   "cell_type": "code",
   "execution_count": null,
   "id": "07532932-f716-4389-9a29-4d7deec39138",
   "metadata": {},
   "outputs": [],
   "source": [
    "import numpy as np\n",
    "import pandas as pd\n",
    "import matplotlib.pyplot as plt"
   ]
  },
  {
   "cell_type": "code",
   "execution_count": null,
   "id": "ca1d74f8-52c5-4b9d-a087-5fed47a33cbe",
   "metadata": {},
   "outputs": [],
   "source": [
    "# Print all columns\n",
    "columns = pd.read_csv(UKBB_PATH, nrows=0).columns.tolist()\n",
    "print(columns)"
   ]
  },
  {
   "cell_type": "code",
   "execution_count": null,
   "id": "92d30734-9030-4732-83a5-ba1f65587bfe",
   "metadata": {},
   "outputs": [],
   "source": [
    "\n",
    "# Read the chunk and get columns from the datafields dictionary\n",
    "# if Oldest=True, take the oldest instance, otherwise newest\n",
    "def get_columns_from_chunk(chunk, datafields, oldest=False):\n",
    "    selected_columns = {}\n",
    "    for field_name, instances in datafields.items():\n",
    "        instance_key = min(instances) if oldest else max(instances)\n",
    "        selected_columns[field_name] = instances[instance_key]\n",
    "    \n",
    "    # Select only the necessary columns from the chunk\n",
    "    filtered_chunk = chunk[list(selected_columns.values())].rename(columns={\n",
    "        v: k for k, v in selected_columns.items()\n",
    "    })\n",
    "    \n",
    "    return filtered_chunk\n",
    "    "
   ]
  },
  {
   "cell_type": "code",
   "execution_count": null,
   "id": "ee1dd430-2e25-456e-8d35-c57de4f5d354",
   "metadata": {},
   "outputs": [],
   "source": [
    "def filter_by_vascular_dementia(chunk):\n",
    "    col_1_filter = \"Vascular Dementia Date First Reported\"\n",
    "    col_2_filter = \"Date of vascular dementia report\"\n",
    "    col_combined = \"Vascular Dementia Report Date\"\n",
    "    Y_col = \"Has Vascular Dementia\"\n",
    "    \n",
    "    # Filter rows where either col_1_filter or col_2_filter is not NaN\n",
    "    filtered_chunk = chunk[chunk[col_1_filter].notna() | chunk[col_2_filter].notna()].copy()  # Make a copy here\n",
    "    \n",
    "    # Combine dates and add the new columns\n",
    "    filtered_chunk.loc[:, col_combined] = pd.to_datetime(\n",
    "        filtered_chunk[col_1_filter].combine_first(filtered_chunk[col_2_filter]), errors=\"coerce\"\n",
    "    )\n",
    "    \n",
    "    # Filter by dates to remove unspecified entries\n",
    "    filtered_chunk.loc[:, Y_col] = (\n",
    "        filtered_chunk[col_combined]\n",
    "        .between(pd.Timestamp(\"1950-01-01\"), pd.Timestamp(\"2030-12-31\"))\n",
    "        .astype(int)\n",
    "    )\n",
    "\n",
    "    return filtered_chunk"
   ]
  },
  {
   "cell_type": "code",
   "execution_count": null,
   "id": "cffde9dd-57be-447d-b602-e0ce63947d42",
   "metadata": {},
   "outputs": [],
   "source": [
    "\n",
    "chunk_size = 10000\n",
    "\n",
    "# Create an empty DataFrame to hold the filtered data\n",
    "result_df = pd.DataFrame()\n",
    "\n",
    "for chunk in pd.read_csv(UKBB_PATH, chunksize=chunk_size, low_memory=False):\n",
    "\n",
    "    filtered_chunk = get_columns_from_chunk(chunk, datafields, oldest=True)\n",
    "\n",
    "    filtered_chunk = filter_by_vascular_dementia(filtered_chunk)\n",
    "    \n",
    "    # Append to the result DataFrame\n",
    "    result_df = pd.concat([result_df, filtered_chunk], ignore_index=True)\n",
    "    \n",
    "\n",
    "# Save the result\n",
    "result_df.to_csv('vascular_dementia_filtered.csv')\n",
    "\n",
    "# Display the first 30 rows\n",
    "result_df.head(30)"
   ]
  },
  {
   "cell_type": "code",
   "execution_count": null,
   "id": "5d731281-00d2-4836-ba41-414636be17fc",
   "metadata": {},
   "outputs": [],
   "source": []
  }
 ],
 "metadata": {
  "kernelspec": {
   "display_name": "Python 3 (ipykernel)",
   "language": "python",
   "name": "python3"
  },
  "language_info": {
   "codemirror_mode": {
    "name": "ipython",
    "version": 3
   },
   "file_extension": ".py",
   "mimetype": "text/x-python",
   "name": "python",
   "nbconvert_exporter": "python",
   "pygments_lexer": "ipython3",
   "version": "3.10.16"
  }
 },
 "nbformat": 4,
 "nbformat_minor": 5
}
