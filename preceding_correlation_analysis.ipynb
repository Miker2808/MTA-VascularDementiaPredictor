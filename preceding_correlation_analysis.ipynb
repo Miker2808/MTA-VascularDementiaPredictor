{
 "cells": [
  {
   "cell_type": "code",
   "execution_count": null,
   "id": "cc14114a-2da7-4fd9-8b0b-2f6c6df96340",
   "metadata": {},
   "outputs": [],
   "source": [
    "import numpy as np\n",
    "import pandas as pd\n",
    "import seaborn as sns\n",
    "import matplotlib.pyplot as plt\n",
    "\n",
    "from DataFields import DataFields\n",
    "from DataFields import DateReportedFields\n",
    "\n",
    "from ProjectFunctions import convert_date_to_binary, print_highly_correlated_features"
   ]
  },
  {
   "cell_type": "code",
   "execution_count": null,
   "id": "e89adf88-1ac5-4a5e-a5ba-3dda02706327",
   "metadata": {},
   "outputs": [],
   "source": [
    "df_diagnosed = pd.read_csv(\"diagnosed_processed.csv\")\n",
    "df_undiagnosed = pd.read_csv(\"undiagnosed.csv\")\n",
    "df = pd.concat([df_diagnosed, df_undiagnosed], ignore_index=True, sort=False)\n",
    "df = df[DateReportedFields]"
   ]
  },
  {
   "cell_type": "code",
   "execution_count": null,
   "id": "174f66ac-f0bb-4296-a018-85d452de7b41",
   "metadata": {},
   "outputs": [],
   "source": [
    "def convert_time_distance(df, target_feature: str) -> pd.DataFrame:\n",
    "    input_df = df.copy()  # Create a copy of the dataframe\n",
    "\n",
    "    target_dates = pd.to_datetime(input_df[target_feature], errors='coerce')\n",
    "\n",
    "    input_df[target_feature] = target_dates.notna().map({True: 0.0, False: pd.NA})\n",
    "\n",
    "    for feature in input_df.columns:\n",
    "        if feature == target_feature:\n",
    "            continue\n",
    "        feature_dates = pd.to_datetime(input_df[feature], errors='coerce')\n",
    "        input_df[feature] = (feature_dates - target_dates).dt.days / 365.25\n",
    "        \n",
    "    return input_df\n",
    "\n",
    "relation_df = convert_time_distance(df, \"Vascular Dementia Report Date\")\n",
    "\n",
    "relation_df = relation_df.apply(pd.to_numeric, errors='coerce')\n"
   ]
  },
  {
   "cell_type": "code",
   "execution_count": null,
   "id": "f6472456-2185-4ac9-99cc-71f3b43d22d0",
   "metadata": {},
   "outputs": [],
   "source": [
    "relation_df.mean()"
   ]
  },
  {
   "cell_type": "code",
   "execution_count": null,
   "id": "7cd3910a-13de-40ff-b87e-45e6a1b4fcf4",
   "metadata": {},
   "outputs": [],
   "source": [
    "df_binary = convert_date_to_binary(df)\n",
    "\n",
    "print_highly_correlated_features(df_binary, features=[\"Vascular Dementia Report Date\"], threshold = 0.75)"
   ]
  }
 ],
 "metadata": {
  "kernelspec": {
   "display_name": "Python 3 (ipykernel)",
   "language": "python",
   "name": "python3"
  },
  "language_info": {
   "codemirror_mode": {
    "name": "ipython",
    "version": 3
   },
   "file_extension": ".py",
   "mimetype": "text/x-python",
   "name": "python",
   "nbconvert_exporter": "python",
   "pygments_lexer": "ipython3",
   "version": "3.10.13"
  }
 },
 "nbformat": 4,
 "nbformat_minor": 5
}
