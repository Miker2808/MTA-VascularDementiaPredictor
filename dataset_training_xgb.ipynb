{
 "cells": [
  {
   "cell_type": "code",
   "execution_count": null,
   "id": "6b9af00e-638b-446a-878c-88c40eea4f87",
   "metadata": {},
   "outputs": [],
   "source": [
    "import xgboost as xgb\n",
    "import shap\n",
    "import numpy as np\n",
    "import pandas as pd\n",
    "from sklearn.model_selection import train_test_split\n",
    "from sklearn.metrics import accuracy_score, roc_auc_score, RocCurveDisplay, ConfusionMatrixDisplay, confusion_matrix\n",
    "import matplotlib.pyplot as plt\n",
    "\n",
    "from DataFields import DateReportedFields\n",
    "from ProjectFunctions import one_hot_encode_vascular_problems, convert_date_to_binary"
   ]
  },
  {
   "cell_type": "markdown",
   "id": "ee472996-a0e4-43aa-a417-ca302c1f876e",
   "metadata": {},
   "source": [
    "#### Create XGB dataset"
   ]
  },
  {
   "cell_type": "code",
   "execution_count": null,
   "id": "4d8cac7e-a727-45b5-83ee-d0230510097c",
   "metadata": {},
   "outputs": [],
   "source": [
    "df_diagnosed = pd.read_csv(\"diagnosed_processed.csv\")\n",
    "df_undiagnosed = pd.read_csv(\"undiagnosed_csvs/undiagnosed_1.csv\")\n",
    "\n",
    "df_merged = pd.concat([df_diagnosed, df_undiagnosed], ignore_index=True, sort=False)\n",
    "\n",
    "df_merged = one_hot_encode_vascular_problems(df_merged)\n",
    "#df_merged = df_merged.drop(columns=[\"Education\"]) # columns to exclude, if wanted \n",
    "\n",
    "df_merged = convert_date_to_binary(df_merged, DateReportedFields)\n",
    "\n",
    "# split to test and train\n",
    "X = df_merged.drop('Vascular Dementia Report Date', axis=1)  # Features\n",
    "y = df_merged['Vascular Dementia Report Date']  # Target\n",
    "\n",
    "X_train, X_test, y_train, y_test = train_test_split(X, y, test_size=0.2)"
   ]
  },
  {
   "cell_type": "markdown",
   "id": "cf8b80dd-cd9b-4fed-af50-da04eb01bc7c",
   "metadata": {},
   "source": [
    "#### Create XGB classifier"
   ]
  },
  {
   "cell_type": "code",
   "execution_count": null,
   "id": "9fd5e4ad-4761-43a5-aa09-f3a38d3f3878",
   "metadata": {},
   "outputs": [],
   "source": [
    "xgb_model = xgb.XGBClassifier(eval_metric='logloss')\n",
    "xgb_model.fit(X_train, y_train)\n",
    "\n",
    "y_pred = xgb_model.predict(X_test)\n",
    "y_prob = xgb_model.predict_proba(X_test)[:, 1]\n",
    "\n",
    "print(\"Accuracy:\", accuracy_score(y_test, y_pred))\n",
    "print(\"ROC AUC Score:\", roc_auc_score(y_test, y_prob))"
   ]
  },
  {
   "cell_type": "markdown",
   "id": "0b4cd1b4-e069-4458-ba43-7293b7720b95",
   "metadata": {},
   "source": [
    "#### Plot ROC Curve"
   ]
  },
  {
   "cell_type": "code",
   "execution_count": null,
   "id": "602b8e55-6a31-4aab-bda4-ae79adc79ec0",
   "metadata": {},
   "outputs": [],
   "source": [
    "RocCurveDisplay.from_predictions(y_test, y_prob)\n",
    "plt.title(\"ROC Curve\")\n",
    "plt.grid(True)\n",
    "plt.tight_layout()\n",
    "plt.show()"
   ]
  },
  {
   "cell_type": "markdown",
   "id": "8f8d3faf-b743-48d0-a106-a265eb9d770c",
   "metadata": {},
   "source": [
    "#### Plot Confusion Matrix"
   ]
  },
  {
   "cell_type": "code",
   "execution_count": null,
   "id": "7d0296f9-74c8-4eb3-a044-56e9fe494c04",
   "metadata": {},
   "outputs": [],
   "source": [
    "cm = confusion_matrix(y_test, y_pred)\n",
    "disp = ConfusionMatrixDisplay(confusion_matrix=cm)\n",
    "disp.plot(cmap=plt.cm.Blues)\n",
    "plt.title('Confusion Matrix')\n",
    "plt.tight_layout()\n",
    "plt.show()"
   ]
  },
  {
   "cell_type": "code",
   "execution_count": null,
   "id": "23b0bc70-465d-4bea-bcca-cfde71824de4",
   "metadata": {},
   "outputs": [],
   "source": [
    "explainer = shap.Explainer(xgb_model, X_train, feature_names=X_train.columns)\n",
    "shap_values = explainer(X_test)\n",
    "\n",
    "shap.summary_plot(shap_values, X_test)"
   ]
  }
 ],
 "metadata": {
  "kernelspec": {
   "display_name": "Python 3 (ipykernel)",
   "language": "python",
   "name": "python3"
  },
  "language_info": {
   "codemirror_mode": {
    "name": "ipython",
    "version": 3
   },
   "file_extension": ".py",
   "mimetype": "text/x-python",
   "name": "python",
   "nbconvert_exporter": "python",
   "pygments_lexer": "ipython3",
   "version": "3.10.13"
  }
 },
 "nbformat": 4,
 "nbformat_minor": 5
}
