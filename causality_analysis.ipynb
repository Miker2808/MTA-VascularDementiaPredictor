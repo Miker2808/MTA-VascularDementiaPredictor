{
 "cells": [
  {
   "cell_type": "code",
   "execution_count": null,
   "id": "27b25664-0684-455c-833e-9830fb01f16a",
   "metadata": {},
   "outputs": [],
   "source": [
    "import numpy as np\n",
    "import pandas as pd\n",
    "import seaborn as sns\n",
    "import matplotlib.pyplot as plt\n",
    "\n",
    "from causallearn.search.ConstraintBased.PC import pc\n",
    "from causallearn.utils.cit import fisherz, mv_fisherz, gsq\n",
    "from causallearn.utils.GraphUtils import GraphUtils\n",
    "\n",
    "from DataFields import DataFields\n",
    "from DataFields import DateReportedFields\n",
    "\n",
    "from ProjectFunctions import convert_date_to_binary"
   ]
  },
  {
   "cell_type": "markdown",
   "id": "c3f7e8ad-b435-4e79-9605-fe288ae55a9a",
   "metadata": {},
   "source": [
    "##### Combine datasets"
   ]
  },
  {
   "cell_type": "code",
   "execution_count": null,
   "id": "d45f4230-1ee2-4e98-a850-7efe23841692",
   "metadata": {},
   "outputs": [],
   "source": [
    "df_diagnosed = pd.read_csv(\"diagnosed_processed.csv\")\n",
    "df_undiagnosed = pd.read_csv(\"undiagnosed.csv\")\n",
    "df = pd.concat([df_diagnosed, df_undiagnosed], ignore_index=True, sort=False)\n",
    "df = df[DateReportedFields]"
   ]
  },
  {
   "cell_type": "markdown",
   "id": "eb0050b8-8056-42ba-a5cf-0950821add13",
   "metadata": {},
   "source": [
    "##### Convert to time deltas + NA (fit for mv_fisherz test)"
   ]
  },
  {
   "cell_type": "code",
   "execution_count": null,
   "id": "01d1c701-d923-4f16-941b-fe63b4bde5fb",
   "metadata": {},
   "outputs": [],
   "source": [
    "def convert_time_distance(df, target_feature: str) -> pd.DataFrame:\n",
    "    \n",
    "    target_dates = pd.to_datetime(df[target_feature], errors='coerce')\n",
    "\n",
    "    df[target_feature] = target_dates.notna().map({True: 0.0, False: pd.NA})\n",
    "\n",
    "    for feature in df.columns:\n",
    "        if feature == target_feature:\n",
    "            continue\n",
    "        feature_dates = pd.to_datetime(df[feature], errors='coerce')\n",
    "        df[feature] = (target_dates - feature_dates).dt.days / 365.25\n",
    "        \n",
    "    return df\n",
    "\n",
    "relation_df = convert_time_distance(df, \"Vascular Dementia Report Date\")\n",
    "\n",
    "relation_df = relation_df.apply(pd.to_numeric, errors='coerce')\n",
    "\n",
    "pc_test = mv_fisherz"
   ]
  },
  {
   "cell_type": "markdown",
   "id": "995d1386-60d1-4339-8f9d-c6247223bc0a",
   "metadata": {},
   "source": [
    "##### Convert to categorical time delta (fit for gsq test)"
   ]
  },
  {
   "cell_type": "code",
   "execution_count": null,
   "id": "cbae3320-fa36-43f5-8375-0d99f830f804",
   "metadata": {},
   "outputs": [],
   "source": [
    "def encode_disease_relation(disease_date, vd_date):\n",
    "    if pd.isna(vd_date):\n",
    "        if pd.isna(disease_date):\n",
    "            return -3  # neither diagnosed\n",
    "        else:\n",
    "            return -4  # disease diagnosed, VD not\n",
    "    else:\n",
    "        if pd.isna(disease_date):\n",
    "            return -2  # VD diagnosed, disease not\n",
    "        delta = (pd.to_datetime(disease_date) - pd.to_datetime(vd_date)).days\n",
    "        if delta < 0:\n",
    "            return -1\n",
    "        elif delta == 0:\n",
    "            return 0\n",
    "        else:\n",
    "            return 1\n",
    "\n",
    "relation_df = df.apply(\n",
    "    lambda col: df.apply(lambda row: encode_disease_relation(row[col.name], row['Vascular Dementia Report Date']), axis=1)\n",
    ")\n",
    "relation_df.head()\n",
    "\n",
    "pc_test = gsq"
   ]
  },
  {
   "cell_type": "markdown",
   "id": "ff2f6fcd-ec3c-49f9-bf40-51fa5579de5c",
   "metadata": {},
   "source": [
    "##### Run PC algorithm"
   ]
  },
  {
   "cell_type": "code",
   "execution_count": null,
   "id": "307f9d75-8069-4c6e-9042-eed33d96ce1b",
   "metadata": {},
   "outputs": [],
   "source": [
    "nodes = relation_df.columns.tolist()\n",
    "cg = pc(relation_df.values, alpha=0.01, indep_test_func=pc_test, mvpc=False, verbose=False)"
   ]
  },
  {
   "cell_type": "markdown",
   "id": "0812c4a2-5811-49e9-9b94-3d9b378e1768",
   "metadata": {},
   "source": [
    "##### Visualize output"
   ]
  },
  {
   "cell_type": "code",
   "execution_count": null,
   "id": "434382dd-fadd-4f35-ad8c-7a2c7798a974",
   "metadata": {},
   "outputs": [],
   "source": [
    "cg.draw_pydot_graph(labels=nodes)"
   ]
  }
 ],
 "metadata": {
  "kernelspec": {
   "display_name": "Python 3 (ipykernel)",
   "language": "python",
   "name": "python3"
  },
  "language_info": {
   "codemirror_mode": {
    "name": "ipython",
    "version": 3
   },
   "file_extension": ".py",
   "mimetype": "text/x-python",
   "name": "python",
   "nbconvert_exporter": "python",
   "pygments_lexer": "ipython3",
   "version": "3.10.13"
  }
 },
 "nbformat": 4,
 "nbformat_minor": 5
}
