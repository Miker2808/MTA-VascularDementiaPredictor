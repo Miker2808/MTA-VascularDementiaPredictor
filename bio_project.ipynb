{
 "cells": [
  {
   "cell_type": "markdown",
   "id": "3e20529a-7105-4ddd-b67a-b376299dbc7e",
   "metadata": {},
   "source": [
    "#### Load data about patients diagnosed with vascular dementia"
   ]
  },
  {
   "cell_type": "code",
   "execution_count": 2,
   "id": "07532932-f716-4389-9a29-4d7deec39138",
   "metadata": {},
   "outputs": [],
   "source": [
    "import numpy as np\n",
    "import pandas as pd\n",
    "import matplotlib.pyplot as plt"
   ]
  },
  {
   "cell_type": "code",
   "execution_count": 13,
   "id": "20707719-4a6a-406f-a702-d009d9e6ab39",
   "metadata": {
    "scrolled": true
   },
   "outputs": [
    {
     "name": "stdout",
     "output_type": "stream",
     "text": [
      "1\n",
      "2\n",
      "3\n",
      "4\n",
      "5\n",
      "6\n",
      "7\n",
      "8\n",
      "9\n",
      "10\n",
      "11\n",
      "12\n",
      "13\n",
      "14\n",
      "15\n",
      "16\n",
      "17\n",
      "18\n",
      "19\n",
      "20\n",
      "21\n",
      "22\n",
      "23\n",
      "24\n",
      "25\n",
      "26\n"
     ]
    },
    {
     "data": {
      "text/html": [
       "<div>\n",
       "<style scoped>\n",
       "    .dataframe tbody tr th:only-of-type {\n",
       "        vertical-align: middle;\n",
       "    }\n",
       "\n",
       "    .dataframe tbody tr th {\n",
       "        vertical-align: top;\n",
       "    }\n",
       "\n",
       "    .dataframe thead th {\n",
       "        text-align: right;\n",
       "    }\n",
       "</style>\n",
       "<table border=\"1\" class=\"dataframe\">\n",
       "  <thead>\n",
       "    <tr style=\"text-align: right;\">\n",
       "      <th></th>\n",
       "      <th>eid</th>\n",
       "      <th>42023-0.0</th>\n",
       "    </tr>\n",
       "  </thead>\n",
       "  <tbody>\n",
       "    <tr>\n",
       "      <th>count</th>\n",
       "      <td>1.746000e+03</td>\n",
       "      <td>1746.000000</td>\n",
       "    </tr>\n",
       "    <tr>\n",
       "      <th>mean</th>\n",
       "      <td>3.492556e+06</td>\n",
       "      <td>19.878580</td>\n",
       "    </tr>\n",
       "    <tr>\n",
       "      <th>std</th>\n",
       "      <td>1.443183e+06</td>\n",
       "      <td>3.151046</td>\n",
       "    </tr>\n",
       "    <tr>\n",
       "      <th>min</th>\n",
       "      <td>1.002012e+06</td>\n",
       "      <td>11.000000</td>\n",
       "    </tr>\n",
       "    <tr>\n",
       "      <th>25%</th>\n",
       "      <td>2.261002e+06</td>\n",
       "      <td>21.000000</td>\n",
       "    </tr>\n",
       "    <tr>\n",
       "      <th>50%</th>\n",
       "      <td>3.478513e+06</td>\n",
       "      <td>21.000000</td>\n",
       "    </tr>\n",
       "    <tr>\n",
       "      <th>75%</th>\n",
       "      <td>4.729204e+06</td>\n",
       "      <td>21.000000</td>\n",
       "    </tr>\n",
       "    <tr>\n",
       "      <th>max</th>\n",
       "      <td>6.018722e+06</td>\n",
       "      <td>22.000000</td>\n",
       "    </tr>\n",
       "  </tbody>\n",
       "</table>\n",
       "</div>"
      ],
      "text/plain": [
       "                eid    42023-0.0\n",
       "count  1.746000e+03  1746.000000\n",
       "mean   3.492556e+06    19.878580\n",
       "std    1.443183e+06     3.151046\n",
       "min    1.002012e+06    11.000000\n",
       "25%    2.261002e+06    21.000000\n",
       "50%    3.478513e+06    21.000000\n",
       "75%    4.729204e+06    21.000000\n",
       "max    6.018722e+06    22.000000"
      ]
     },
     "execution_count": 13,
     "metadata": {},
     "output_type": "execute_result"
    }
   ],
   "source": [
    "UKBB_PATH = \"biobank/ukb672220.csv\"\n",
    "\n",
    "#columns = pd.read_csv(UKBB_PATH, nrows=0).columns.tolist()\n",
    "#print(columns)\n",
    "\n",
    "fields = [\"eid\", \"42023-0.0\"]\n",
    "filter_column = \"42023-0.0\"\n",
    "chunk_size = 20000\n",
    "\n",
    "filtered_chunks = []\n",
    "counter = 0\n",
    "for chunk in pd.read_csv(UKBB_PATH, usecols=fields, chunksize=chunk_size):\n",
    "    filtered_chunk = chunk[chunk[filter_column].notna()]\n",
    "\n",
    "    filtered_chunks.append(filtered_chunk)\n",
    "    \n",
    "    counter += 1\n",
    "    print(counter)\n",
    "\n",
    "df = pd.concat(filtered_chunks, ignore_index=True)\n",
    "\n",
    "df.to_pickle('vascular_dementia_filtered.pkl')\n",
    "\n",
    "df.describe()"
   ]
  },
  {
   "cell_type": "code",
   "execution_count": null,
   "id": "86613886-b96e-41d0-934b-1aa8acdece38",
   "metadata": {},
   "outputs": [],
   "source": []
  }
 ],
 "metadata": {
  "kernelspec": {
   "display_name": "Python 3 (ipykernel)",
   "language": "python",
   "name": "python3"
  },
  "language_info": {
   "codemirror_mode": {
    "name": "ipython",
    "version": 3
   },
   "file_extension": ".py",
   "mimetype": "text/x-python",
   "name": "python",
   "nbconvert_exporter": "python",
   "pygments_lexer": "ipython3",
   "version": "3.10.16"
  }
 },
 "nbformat": 4,
 "nbformat_minor": 5
}
