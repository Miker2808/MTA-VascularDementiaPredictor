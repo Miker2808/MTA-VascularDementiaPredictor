{
 "cells": [
  {
   "cell_type": "markdown",
   "id": "3e20529a-7105-4ddd-b67a-b376299dbc7e",
   "metadata": {},
   "source": [
    "#### Load data about patients diagnosed with vascular dementia"
   ]
  },
  {
   "cell_type": "code",
   "execution_count": 4,
   "id": "de5a517a",
   "metadata": {},
   "outputs": [],
   "source": [
    "UKBB_PATH = \"~/biobank/ukb672220.csv\"\n",
    "\n",
    "from DataFields import DataFields\n",
    "\n",
    "datafields = DataFields\n"
   ]
  },
  {
   "cell_type": "code",
   "execution_count": null,
   "id": "07532932-f716-4389-9a29-4d7deec39138",
   "metadata": {},
   "outputs": [],
   "source": [
    "import numpy as np\n",
    "import pandas as pd\n",
    "import matplotlib.pyplot as plt"
   ]
  },
  {
   "cell_type": "code",
   "execution_count": null,
   "id": "ca1d74f8-52c5-4b9d-a087-5fed47a33cbe",
   "metadata": {},
   "outputs": [],
   "source": [
    "# Print all columns\n",
    "columns = pd.read_csv(UKBB_PATH, nrows=0).columns.tolist()\n",
    "print(columns)"
   ]
  },
  {
   "cell_type": "code",
   "execution_count": null,
   "id": "cffde9dd-57be-447d-b602-e0ce63947d42",
   "metadata": {},
   "outputs": [],
   "source": [
    "fields = list(fields_dict.values())\n",
    "vd_1 = fields_dict[\"Vascular Dementia Date First Reported\"]\n",
    "vd_2 = fields_dict[\"Date of vascular dementia report\"]\n",
    "chunk_size = 20000\n",
    "\n",
    "counter = 0\n",
    "print(\"Working...\")\n",
    "\n",
    "# Create an empty DataFrame to hold the filtered data\n",
    "result_df = pd.DataFrame()\n",
    "\n",
    "for chunk in pd.read_csv(UKBB_PATH, usecols=fields, chunksize=chunk_size, low_memory=False):\n",
    "    # Filter rows where either vd_1 or vd_2 is not NaN\n",
    "    filtered_chunk = chunk[chunk[vd_1].notna() | chunk[vd_2].notna()].copy()  # Make a copy here\n",
    "    \n",
    "    # Combine dates and add the new columns\n",
    "    filtered_chunk.loc[:, \"VascularDementiaReportDate\"] = pd.to_datetime(\n",
    "        filtered_chunk[vd_1].combine_first(filtered_chunk[vd_2]), errors=\"coerce\"\n",
    "    )\n",
    "    filtered_chunk.loc[:, \"hasVascularDementia\"] = (\n",
    "        filtered_chunk[\"VascularDementiaReportDate\"]\n",
    "        .between(pd.Timestamp(\"1950-01-01\"), pd.Timestamp(\"2030-12-31\"))\n",
    "        .astype(int)\n",
    "    )\n",
    "    \n",
    "    # Append to the result DataFrame\n",
    "    result_df = pd.concat([result_df, filtered_chunk], ignore_index=True)\n",
    "    \n",
    "    # Update the counter\n",
    "    counter += len(filtered_chunk)\n",
    "    print(counter)\n",
    "\n",
    "# Save the result\n",
    "result_df.to_pickle('vascular_dementia_filtered.pkl')\n",
    "\n",
    "# Display the first 30 rows\n",
    "result_df.head(30)"
   ]
  }
 ],
 "metadata": {
  "kernelspec": {
   "display_name": "Python 3 (ipykernel)",
   "language": "python",
   "name": "python3"
  },
  "language_info": {
   "codemirror_mode": {
    "name": "ipython",
    "version": 3
   },
   "file_extension": ".py",
   "mimetype": "text/x-python",
   "name": "python",
   "nbconvert_exporter": "python",
   "pygments_lexer": "ipython3",
   "version": "3.10.16"
  }
 },
 "nbformat": 4,
 "nbformat_minor": 5
}
