{
 "cells": [
  {
   "cell_type": "code",
   "execution_count": null,
   "id": "a94aec83-ad43-4f84-8663-52e512b7b593",
   "metadata": {},
   "outputs": [],
   "source": [
    "import numpy as np\n",
    "import pandas as pd\n",
    "import matplotlib.pyplot as plt\n",
    "from DataFields import DataFields\n",
    "from DataFields import DateReportedFields\n",
    "from ProjectFunctions import one_hot_encode_vascular_problems, convert_date_to_binary"
   ]
  },
  {
   "cell_type": "code",
   "execution_count": null,
   "id": "ba5c5d17-ed54-4ca5-9d40-fcdfff71ebc7",
   "metadata": {},
   "outputs": [],
   "source": [
    "df_diagnosed = pd.read_csv(\"diagnosed_processed.csv\")\n",
    "df_undiagnosed = pd.read_csv(\"undiagnosed.csv\")"
   ]
  },
  {
   "cell_type": "code",
   "execution_count": null,
   "id": "161fb98a-cea5-47d7-a1e8-ebdeccebc9a8",
   "metadata": {},
   "outputs": [],
   "source": [
    "df_merged = pd.concat([df_diagnosed, df_undiagnosed], ignore_index=True, sort=False)\n",
    "\n",
    "df_merged = one_hot_encode_vascular_problems(df_merged)\n",
    "df_merged = df_merged.drop(columns=[\"High Blood Pressure\", \"Education\"])\n",
    "\n",
    "df_merged = convert_date_to_binary(df_merged, DateReportedFields)\n",
    "\n",
    "df_merged.to_csv(\"dataset_merged.csv\", index=False)\n",
    "\n",
    "df_merged.describe()"
   ]
  },
  {
   "cell_type": "markdown",
   "id": "47c4e249-b960-47ac-b702-538f79d61e7d",
   "metadata": {},
   "source": [
    "#### Identify and drop highly correlated features by pearson correlation"
   ]
  },
  {
   "cell_type": "code",
   "execution_count": null,
   "id": "238b8d63-5030-4e32-b062-d585d6e8062a",
   "metadata": {},
   "outputs": [],
   "source": [
    "def print_highly_correlated_features(df, threshold=0.8):\n",
    "    corr_matrix = df.corr(method=\"pearson\")\n",
    "    correlated_features = {}\n",
    "\n",
    "    for col in corr_matrix.columns:\n",
    "        high_corr = corr_matrix[col][(corr_matrix[col] >= threshold) & (corr_matrix[col] < 1)].index.tolist()\n",
    "        if high_corr:\n",
    "            correlated_features[col] = high_corr\n",
    "    print(\"Highly correlated features:\")\n",
    "    for feature, related_features in correlated_features.items():\n",
    "        print(f\"{feature}: {', '.join(related_features)}\")\n",
    "\n",
    "def drop_correlated_features(df, threshold=0.8, keep_list=None):\n",
    "    if keep_list is None:\n",
    "        keep_list = []\n",
    "    \n",
    "    corr_matrix = df.corr(method=\"pearson\").abs()\n",
    "    to_drop = set()\n",
    "    \n",
    "    for i in range(len(corr_matrix.columns)):\n",
    "        for j in range(i + 1, len(corr_matrix.columns)):  # Avoid duplicate checks\n",
    "            feature1 = corr_matrix.columns[i]\n",
    "            feature2 = corr_matrix.columns[j]\n",
    "            \n",
    "            if corr_matrix.iloc[i, j] > threshold:\n",
    "                if feature1 in keep_list and feature2 in keep_list:\n",
    "                    raise ValueError(f\"Cannot drop either '{feature1}' or '{feature2}' as both are in keep_list.\")\n",
    "                \n",
    "                if feature1 in keep_list:\n",
    "                    to_drop.add(feature2)  # Drop feature2 if feature1 is in keep_list\n",
    "                elif feature2 in keep_list:\n",
    "                    to_drop.add(feature1)\n",
    "                else:\n",
    "                    to_drop.add(feature2)\n",
    "    \n",
    "    # Drop identified features\n",
    "    df = df.drop(columns=to_drop, errors=\"ignore\")\n",
    "    \n",
    "    print(\"Features dropped:\")\n",
    "    for x in to_drop:\n",
    "        print(x)\n",
    "            \n",
    "    return df"
   ]
  },
  {
   "cell_type": "markdown",
   "id": "7b0df4ae-f9ae-4d04-b836-4822433eba92",
   "metadata": {},
   "source": [
    "#### View the correlation matrix"
   ]
  },
  {
   "cell_type": "code",
   "execution_count": null,
   "id": "14bae978-2fba-47b8-a49c-6af6181fc7bb",
   "metadata": {},
   "outputs": [],
   "source": [
    "df_merged.corr()"
   ]
  },
  {
   "cell_type": "markdown",
   "id": "452d70e2-bee1-4ea2-a8a7-5ba25fe1438a",
   "metadata": {},
   "source": [
    "#### Print highly correlated features and drop those excluded from the keey_list"
   ]
  },
  {
   "cell_type": "code",
   "execution_count": null,
   "id": "5010d2d0-1637-471b-9769-5842f4d81faf",
   "metadata": {},
   "outputs": [],
   "source": [
    "print_highly_correlated_features(df_merged, threshold=0.8)\n",
    "print()\n",
    "df_merged = drop_correlated_features(df_merged, threshold = 0.8, keep_list=[\"Vascular Dementia Report Date\", \"Sex\"])"
   ]
  },
  {
   "cell_type": "markdown",
   "id": "475b400d-c6e4-4f35-a225-e0bb50285de7",
   "metadata": {},
   "source": [
    "#### Save the new dataframe"
   ]
  },
  {
   "cell_type": "code",
   "execution_count": null,
   "id": "efde66b5-617a-4013-a9d8-93cf99450dbd",
   "metadata": {},
   "outputs": [],
   "source": [
    "df_merged.to_csv(\"vascular_dementia_dataset.csv\", index=False)\n",
    "df_merged.describe()"
   ]
  },
  {
   "cell_type": "code",
   "execution_count": null,
   "id": "d417acbe-d15f-4aad-8cba-fd74242d2be2",
   "metadata": {},
   "outputs": [],
   "source": []
  }
 ],
 "metadata": {
  "kernelspec": {
   "display_name": "Python 3 (ipykernel)",
   "language": "python",
   "name": "python3"
  },
  "language_info": {
   "codemirror_mode": {
    "name": "ipython",
    "version": 3
   },
   "file_extension": ".py",
   "mimetype": "text/x-python",
   "name": "python",
   "nbconvert_exporter": "python",
   "pygments_lexer": "ipython3",
   "version": "3.10.13"
  }
 },
 "nbformat": 4,
 "nbformat_minor": 5
}
