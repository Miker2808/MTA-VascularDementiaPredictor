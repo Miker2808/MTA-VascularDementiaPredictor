{
 "cells": [
  {
   "cell_type": "code",
   "execution_count": 2,
   "id": "a94aec83-ad43-4f84-8663-52e512b7b593",
   "metadata": {},
   "outputs": [],
   "source": [
    "import numpy as np\n",
    "import pandas as pd\n",
    "import matplotlib.pyplot as plt\n",
    "from DataFields import DataFields\n",
    "from DataFields import DateReportedFields"
   ]
  },
  {
   "cell_type": "code",
   "execution_count": 4,
   "id": "ba5c5d17-ed54-4ca5-9d40-fcdfff71ebc7",
   "metadata": {},
   "outputs": [],
   "source": [
    "df_diagnosed = pd.read_csv(\"diagnosed_imputed.csv\")\n",
    "df_undiagnosed = pd.read_csv(\"undiagnosed.csv\")"
   ]
  },
  {
   "cell_type": "code",
   "execution_count": 10,
   "id": "161fb98a-cea5-47d7-a1e8-ebdeccebc9a8",
   "metadata": {},
   "outputs": [],
   "source": [
    "df_merged = pd.concat([df_diagnosed, df_undiagnosed], ignore_index=True, sort=False)\n",
    "\n",
    "df_merged.drop(columns=[\"Unnamed: 0.1\", \"Unnamed: 0\"], inplace=True)\n",
    "\n",
    "df_merged.describe()\n",
    "\n",
    "df_merged.to_csv(\"dataset_merged.csv\")"
   ]
  }
 ],
 "metadata": {
  "kernelspec": {
   "display_name": "Python 3 (ipykernel)",
   "language": "python",
   "name": "python3"
  },
  "language_info": {
   "codemirror_mode": {
    "name": "ipython",
    "version": 3
   },
   "file_extension": ".py",
   "mimetype": "text/x-python",
   "name": "python",
   "nbconvert_exporter": "python",
   "pygments_lexer": "ipython3",
   "version": "3.10.16"
  }
 },
 "nbformat": 4,
 "nbformat_minor": 5
}
