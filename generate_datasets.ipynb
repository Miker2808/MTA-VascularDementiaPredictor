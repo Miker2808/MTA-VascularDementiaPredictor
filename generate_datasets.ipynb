{
 "cells": [
  {
   "cell_type": "code",
   "execution_count": 1,
   "id": "5cbbbe46-717a-49fb-9652-4bdb18df7d88",
   "metadata": {},
   "outputs": [],
   "source": [
    "import numpy as np\n",
    "import pandas as pd\n",
    "import matplotlib.pyplot as plt\n",
    "from DataFields import DataFields, DropNAList, DateReportedFields\n",
    "from ProjectFunctions import get_columns_from_chunk, convert_date_to_binary, drop_rows_with_na_greater_than\n",
    "from ProjectFunctions import map_education_levels, map_vascular_levels\n",
    "from typing import Callable, Any\n",
    "import random\n",
    "\n",
    "UKBB_PATH = \"~/biobank/ukb672220.csv\"\n",
    "\n",
    "VD_COL = \"Vascular Dementia Report Date\"\n",
    "\n",
    "# A dictionary containing the used features\n",
    "datafields = DataFields\n",
    "\n",
    "# Features of conditions specified by date\n",
    "datereportedfields = DateReportedFields\n",
    "\n",
    "df_diagnosed = pd.read_csv(\"diagnosed_processed.csv\")"
   ]
  },
  {
   "cell_type": "markdown",
   "id": "4501858e-c959-4a9f-baf2-56ebc18083f3",
   "metadata": {},
   "source": [
    "#### Get histogram of birth year for diagnosed patients"
   ]
  },
  {
   "cell_type": "code",
   "execution_count": 2,
   "id": "1ad39a16-203f-4458-b9c7-dc83d716d730",
   "metadata": {},
   "outputs": [
    {
     "data": {
      "image/png": "[encoded data removed]",
      "text/plain": [
       "<Figure size 640x480 with 1 Axes>"
      ]
     },
     "metadata": {},
     "output_type": "display_data"
    }
   ],
   "source": [
    "df = pd.read_csv(\"diagnosed_processed.csv\")\n",
    "\n",
    "# plot histogram of the birth year\n",
    "df[\"Birth Year\"].plot(kind='hist', bins=10, edgecolor='black')\n",
    "birth_year_counts_histogram, birth_year_histogram_edges = np.histogram(df[\"Birth Year\"], bins=10)\n",
    "birth_year_histogram_edges = np.floor(birth_year_histogram_edges).astype(int)"
   ]
  },
  {
   "cell_type": "markdown",
   "id": "d7959386-a4c2-4825-9a7d-df74dbf301a4",
   "metadata": {},
   "source": [
    "#### Extract undiagnosed patients by histogram"
   ]
  },
  {
   "cell_type": "code",
   "execution_count": 3,
   "id": "f8d7ba4d-5d53-4e7d-b012-5f64f3fa2f7e",
   "metadata": {},
   "outputs": [],
   "source": [
    "def filter_chunk(chunk, column, condition):\n",
    "    # remove unnecessary columns first.\n",
    "    chunk = get_columns_from_chunk(chunk, datafields, oldest=True)\n",
    "\n",
    "    #chunk = map_education_levels(chunk)\n",
    "\n",
    "    #chunk[\"Education\"] = chunk[\"Education\"].replace({-3: pd.NA})\n",
    "    \n",
    "    #chunk[\"Report of vascular problems\"] = chunk[\"Report of vascular problems\"].replace({-3: pd.NA})\n",
    "\n",
    "    # take only patients undiagnosed with vascular dementia\n",
    "    chunk = chunk[chunk[VD_COL].isna()]\n",
    "    \n",
    "    # filter by condition function\n",
    "    mask = condition(chunk[column])\n",
    "    filtered_chunk = chunk.loc[mask]\n",
    "    \n",
    "    # convert items with value less than 0 to NA\n",
    "    #filtered_chunk = filtered_chunk.mask(filtered_chunk.select_dtypes(include='number') < 0)\n",
    "    \n",
    "    #filtered_chunk = filtered_chunk.dropna(subset=DropNAList) # drop if missing value for some columns\n",
    "    # Drop rows with more than 'x' features as NA, ignoring date reported fields\n",
    "    filtered_chunk = drop_rows_with_na_greater_than(filtered_chunk, x=40, include=DropNAList)\n",
    "    \n",
    "    return filtered_chunk\n"
   ]
  },
  {
   "cell_type": "code",
   "execution_count": 4,
   "id": "f7ce9b2c-243f-49a0-ae32-eafe95111363",
   "metadata": {},
   "outputs": [],
   "source": [
    "# Sample \"count\" rows from dataframe following a condtion by chunks randomly.\n",
    "def sample_by_condition(file_path, column, condition, count, samples_per_chunk = 200, skip_chunk_rate = 0.5, chunksize=10000):\n",
    "    result = pd.DataFrame()\n",
    "    samples_collected = 0\n",
    "    \n",
    "    for chunk in pd.read_csv(file_path, chunksize=chunksize, low_memory=False):\n",
    "\n",
    "        if random.random() < skip_chunk_rate:\n",
    "            continue  # randomly skip this chunk\n",
    "        \n",
    "        filtered_chunk = filter_chunk(chunk, column, condition)\n",
    "        \n",
    "        if filtered_chunk.empty:\n",
    "            continue\n",
    "        \n",
    "        remaining_samples = count - samples_collected\n",
    "        if remaining_samples <= 0:\n",
    "            break\n",
    "            \n",
    "        # choose randomly if too many were collected\n",
    "        k = min(samples_per_chunk, len(filtered_chunk))\n",
    "        chunk_sample = filtered_chunk.sample(n=k)\n",
    "    \n",
    "        if result.empty:\n",
    "            result = chunk_sample\n",
    "        else:\n",
    "            result = pd.concat([result, chunk_sample], ignore_index=True, copy=False)\n",
    "\n",
    "        samples_collected += len(chunk_sample)\n",
    "\n",
    "        if samples_collected >= count:\n",
    "            break\n",
    "            \n",
    "    if samples_collected > count:\n",
    "        return result.sample(n=count)\n",
    "    else:\n",
    "        return result"
   ]
  },
  {
   "cell_type": "markdown",
   "id": "5cea60f3-8eaf-4f7b-b304-49f692dac520",
   "metadata": {},
   "source": [
    "#### Extract multiple undiagnosed subsets randomly"
   ]
  },
  {
   "cell_type": "code",
   "execution_count": null,
   "id": "a2865250-b0b2-48aa-baff-74ac9b55793c",
   "metadata": {},
   "outputs": [
    {
     "name": "stdout",
     "output_type": "stream",
     "text": [
      "[Iteration 6] 1 / 10: range 1937 - 1940, gathered 3726/3726\n"
     ]
    }
   ],
   "source": [
    "start_iters = 6\n",
    "end_iters = 10\n",
    "col_name = \"Birth Year\" # The column to use as a rule for \"sample_by_condition\"\n",
    "\n",
    "for iteration in range(start_iters, end_iters+1):\n",
    "    \n",
    "    undiagnosed_df = pd.DataFrame()\n",
    "    \n",
    "    for i in range(len(birth_year_counts_histogram)):\n",
    "        start, end = int(birth_year_histogram_edges[i]), int(birth_year_histogram_edges[i+1])\n",
    "        count = birth_year_counts_histogram[i]*iteration\n",
    "        \n",
    "        df = sample_by_condition(UKBB_PATH,\n",
    "                                 col_name,\n",
    "                                 lambda x:(x >= start) & (x < end),\n",
    "                                 count,\n",
    "                                )\n",
    "        print(f\"[Iteration {iteration}] {i+1} / {len(birth_year_counts_histogram)}: range {start} - {end}, gathered {len(df)}/{count}\")\n",
    "        \n",
    "        undiagnosed_df = pd.concat([undiagnosed_df, df], ignore_index=True)\n",
    "    \n",
    "    # assign undiagnosed\n",
    "    #undiagnosed_df[\"Vascular Dementia Report Date\"] = pd.NA\n",
    "    \n",
    "    # drop id column\n",
    "    #undiagnosed_df = undiagnosed_df.drop(columns=[\"id\"])\n",
    "    undiagnosed_df.to_csv(f\"undiagnosed_csvs/undiagnosed_{iteration}_{iteration}.csv\", index=False)\n"
   ]
  }
 ],
 "metadata": {
  "kernelspec": {
   "display_name": "Python 3 (ipykernel)",
   "language": "python",
   "name": "python3"
  },
  "language_info": {
   "codemirror_mode": {
    "name": "ipython",
    "version": 3
   },
   "file_extension": ".py",
   "mimetype": "text/x-python",
   "name": "python",
   "nbconvert_exporter": "python",
   "pygments_lexer": "ipython3",
   "version": "3.10.13"
  }
 },
 "nbformat": 4,
 "nbformat_minor": 5
}
