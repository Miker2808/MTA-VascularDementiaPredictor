{
 "cells": [
  {
   "cell_type": "code",
   "execution_count": null,
   "id": "cb6649ab-dfc1-46cb-bc22-6cc77c283383",
   "metadata": {},
   "outputs": [],
   "source": [
    "import numpy as np\n",
    "import pandas as pd\n",
    "import seaborn as sns\n",
    "import matplotlib.pyplot as plt\n",
    "from DataFields import DataFields\n",
    "from DataFields import DateReportedFields\n",
    "\n"
   ]
  },
  {
   "cell_type": "code",
   "execution_count": null,
   "id": "58990dd4-2fd5-43ee-8ff6-179f847d1661",
   "metadata": {},
   "outputs": [],
   "source": [
    "df_diagnosed = pd.read_csv(\"diagnosed_processed.csv\")\n",
    "df_undiagnosed = pd.read_csv(\"undiagnosed.csv\")"
   ]
  },
  {
   "cell_type": "code",
   "execution_count": null,
   "id": "02318905-b44b-42c9-ad98-d9bf71f39c92",
   "metadata": {},
   "outputs": [],
   "source": [
    "df = pd.concat([df_diagnosed, df_undiagnosed], ignore_index=True, sort=False)\n",
    "df = df[DateReportedFields]"
   ]
  },
  {
   "cell_type": "code",
   "execution_count": null,
   "id": "cbeece09-76e5-45ca-94b8-882dba7abef9",
   "metadata": {},
   "outputs": [],
   "source": [
    "# from the given \"fields\" list, convert all columns where date is in range, to 0 or 1 instead of a date.\n",
    "# Having date as not NA implies a person was diagnosed with said condition\n",
    "def convert_date_to_binary(df: pd.DataFrame, fields: List[str]) -> pd.DataFrame:\n",
    "    start_date = pd.Timestamp(\"1950-01-01\")\n",
    "    end_date = pd.Timestamp(\"2030-01-01\")\n",
    "\n",
    "    for col in fields:\n",
    "        if col in df.columns:\n",
    "            df[col] = pd.to_datetime(df[col], errors='coerce')\n",
    "            mask = (df[col] >= start_date) & (df[col] <= end_date)\n",
    "            df[col] = np.where(mask, 1, 0)\n",
    "    return df\n"
   ]
  },
  {
   "cell_type": "code",
   "execution_count": null,
   "id": "8c4e6d14-4740-485f-9a3a-2224ef576fdb",
   "metadata": {},
   "outputs": [],
   "source": [
    "# Converts fields from date to distance in years as a float to target_field\n",
    "def convert_time_distance(df, target_feature: str) -> pd.DataFrame:\n",
    "    for feature in df.columns:\n",
    "        df[feature] = pd.to_datetime(df[feature], errors='coerce')\n",
    "        df[target_feature] = pd.to_datetime(df[target_feature], errors='coerce')\n",
    "        delta_years = (df[target_feature] - df[feature]).dt.days / 365.25\n",
    "        df[feature] = delta_years\n",
    "    df[target_feature] = 0\n",
    "    return df\n",
    "\n",
    "df = convert_time_distance(df, \"Vascular Dementia Report Date\")"
   ]
  },
  {
   "cell_type": "code",
   "execution_count": null,
   "id": "5b236ea0-f1f9-417e-962d-e656d6ed4d2c",
   "metadata": {},
   "outputs": [],
   "source": [
    "SENTINEL = 1000.0  # large value to represent \"not diagnosed\"\n",
    "df = df.fillna(SENTINEL)"
   ]
  },
  {
   "cell_type": "code",
   "execution_count": null,
   "id": "e181883b-2df9-47d0-9614-5a939fceda06",
   "metadata": {},
   "outputs": [],
   "source": [
    "def plot_feature_distribution(df, features):\n",
    "    for feature in features:\n",
    "        plt.figure(figsize=(8, 4))\n",
    "        sns.histplot(df[feature], kde=True, bins=30)\n",
    "        plt.title(f'Distribution of {feature}')\n",
    "        plt.xlabel(feature)\n",
    "        plt.ylabel('Frequency')\n",
    "        plt.show()\n",
    "\n",
    "df.to_csv('test.csv', index=False)\n",
    "\n",
    "df.head(20)"
   ]
  },
  {
   "cell_type": "code",
   "execution_count": null,
   "id": "5e506fde-e8a8-4c47-853c-e42c59e740a9",
   "metadata": {},
   "outputs": [],
   "source": [
    "fields = DateReportedFields.copy()\n",
    "\n",
    "plot_feature_distribution(df, fields)"
   ]
  },
  {
   "cell_type": "code",
   "execution_count": null,
   "id": "da888ddf-61e2-437d-97e3-c7ecfa2792b7",
   "metadata": {},
   "outputs": [],
   "source": []
  }
 ],
 "metadata": {
  "kernelspec": {
   "display_name": "Python 3 (ipykernel)",
   "language": "python",
   "name": "python3"
  },
  "language_info": {
   "codemirror_mode": {
    "name": "ipython",
    "version": 3
   },
   "file_extension": ".py",
   "mimetype": "text/x-python",
   "name": "python",
   "nbconvert_exporter": "python",
   "pygments_lexer": "ipython3",
   "version": "3.10.13"
  }
 },
 "nbformat": 4,
 "nbformat_minor": 5
}
