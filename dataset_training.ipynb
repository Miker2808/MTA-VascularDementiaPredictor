{
 "cells": [
  {
   "cell_type": "code",
   "execution_count": null,
   "id": "8177fb5d-186c-4952-917c-79c6d39f5882",
   "metadata": {},
   "outputs": [],
   "source": [
    "import torch\n",
    "import torch.nn as nn\n",
    "import torch.optim as optim\n",
    "import pandas as pd\n",
    "from sklearn.model_selection import train_test_split\n",
    "from sklearn.preprocessing import StandardScaler\n",
    "from sklearn.metrics import roc_curve, auc, accuracy_score\n",
    "import shap\n",
    "import matplotlib.pyplot as plt\n"
   ]
  },
  {
   "cell_type": "markdown",
   "id": "4a85423b-1939-4e89-8a0f-c8c4a2dfccc2",
   "metadata": {},
   "source": [
    "### Prepare the dataset for training"
   ]
  },
  {
   "cell_type": "code",
   "execution_count": null,
   "id": "c98ac8a1-5b29-4a07-b42d-851ee3800d99",
   "metadata": {},
   "outputs": [],
   "source": [
    "df = pd.read_csv('vascular_dementia_dataset.csv')\n",
    "\n",
    "df.describe()"
   ]
  },
  {
   "cell_type": "code",
   "execution_count": null,
   "id": "34760ede-df99-482f-8fc4-3ef87126b899",
   "metadata": {},
   "outputs": [],
   "source": [
    "\n",
    "X = df.drop('Has Vascular Dementia', axis=1).values  # Features\n",
    "y = df['Has Vascular Dementia'].values  # Target\n",
    "\n",
    "scaler = StandardScaler()\n",
    "X_scaled = scaler.fit_transform(X)\n",
    "\n",
    "X_train, X_test, y_train, y_test = train_test_split(X_scaled, y, test_size=0.3)"
   ]
  },
  {
   "cell_type": "markdown",
   "id": "b6875dbd-1269-4872-b914-6971d4ada808",
   "metadata": {},
   "source": [
    "### Define the neural network"
   ]
  },
  {
   "cell_type": "code",
   "execution_count": null,
   "id": "f9f8a940-1d81-4099-9573-b911d82d1fac",
   "metadata": {},
   "outputs": [],
   "source": [
    "class NeuralNetwork(nn.Module):\n",
    "    def __init__(self, input_size):\n",
    "        super(NeuralNetwork, self).__init__()\n",
    "        self.layer1 = nn.Linear(input_size, 64)\n",
    "        self.bn1 = nn.BatchNorm1d(64)\n",
    "        self.layer2 = nn.Linear(64, 32)\n",
    "        self.bn2 = nn.BatchNorm1d(32)\n",
    "        self.layer3 = nn.Linear(32, 1)\n",
    "        self.sigmoid = nn.Sigmoid()\n",
    "\n",
    "    def forward(self, x):\n",
    "        x = torch.relu(self.bn1(self.layer1(x)))\n",
    "        x = torch.relu(self.bn2(self.layer2(x)))\n",
    "        x = self.sigmoid(self.layer3(x))\n",
    "        return x"
   ]
  },
  {
   "cell_type": "code",
   "execution_count": null,
   "id": "c5dc9d5e-83cb-4425-b102-e74c2beb8c7d",
   "metadata": {},
   "outputs": [],
   "source": [
    "# Initialize the model\n",
    "input_size = X_train.shape[1]\n",
    "model = NeuralNetwork(input_size)\n",
    "\n",
    "# Step 4: Train the model\n",
    "criterion = nn.BCELoss()  # Binary Cross-Entropy loss for binary classification\n",
    "optimizer = optim.Adam(model.parameters(), lr=0.001, weight_decay=0.001)\n",
    "\n",
    "# Convert the data to PyTorch tensors\n",
    "X_train_tensor = torch.tensor(X_train, dtype=torch.float32)\n",
    "y_train_tensor = torch.tensor(y_train, dtype=torch.float32).view(-1, 1)\n",
    "\n",
    "# Prepare test data tensors\n",
    "X_test_tensor = torch.tensor(X_test, dtype=torch.float32)\n",
    "y_test_tensor = torch.tensor(y_test, dtype=torch.float32).view(-1, 1)\n"
   ]
  },
  {
   "cell_type": "code",
   "execution_count": null,
   "id": "d8da08ab-ce48-4cd4-b57b-442d61ed922a",
   "metadata": {},
   "outputs": [],
   "source": [
    "# Training loop\n",
    "epochs = 500\n",
    "for epoch in range(epochs):\n",
    "    model.train()\n",
    "\n",
    "    # Zero the gradients\n",
    "    optimizer.zero_grad()\n",
    "\n",
    "    # Forward pass (Training data)\n",
    "    output_train = model(X_train_tensor)\n",
    "    loss = criterion(output_train, y_train_tensor)\n",
    "\n",
    "    # Backward pass\n",
    "    loss.backward()\n",
    "    optimizer.step()\n",
    "\n",
    "    # Calculate training accuracy\n",
    "    predicted_train = (output_train > 0.5).float()\n",
    "    train_accuracy = accuracy_score(y_train, predicted_train.numpy())\n",
    "\n",
    "    # Evaluate on test set\n",
    "    model.eval()\n",
    "    with torch.no_grad():\n",
    "        output_test = model(X_test_tensor)\n",
    "        predicted_test = (output_test > 0.5).float()\n",
    "        test_accuracy = accuracy_score(y_test, predicted_test.numpy())\n",
    "\n",
    "    if (epoch + 1) % 10 == 0:\n",
    "        print(f'Epoch [{epoch+1}/{epochs}], Training Loss: {loss.item():.4f}, '\n",
    "              f'Training Accuracy: {train_accuracy:.4f}, Test Accuracy: {test_accuracy:.4f}')\n"
   ]
  },
  {
   "cell_type": "code",
   "execution_count": null,
   "id": "2345e703-8d78-4249-a496-6ed1aff1f096",
   "metadata": {},
   "outputs": [],
   "source": [
    "# Step 5: Test the model (after training)\n",
    "model.eval()\n",
    "with torch.no_grad():\n",
    "    y_pred = model(X_test_tensor)"
   ]
  },
  {
   "cell_type": "code",
   "execution_count": null,
   "id": "4e304bfb-599f-4b0f-8fbb-a2a332b610c7",
   "metadata": {},
   "outputs": [],
   "source": [
    "y_pred_prob = y_pred.numpy().flatten()\n",
    "fpr, tpr, _ = roc_curve(y_test, y_pred_prob)\n",
    "roc_auc = auc(fpr, tpr)"
   ]
  },
  {
   "cell_type": "code",
   "execution_count": null,
   "id": "baca2a40-f87c-4e55-be57-f841c28cf8db",
   "metadata": {},
   "outputs": [],
   "source": [
    "# Plot the ROC curve\n",
    "plt.figure()\n",
    "plt.plot(fpr, tpr, color='darkorange', lw=2, label=f'ROC curve (AUC = {roc_auc:.2f})')\n",
    "plt.plot([0, 1], [0, 1], color='navy', lw=2, linestyle='--')\n",
    "plt.xlim([0.0, 1.0])\n",
    "plt.ylim([0.0, 1.05])\n",
    "plt.xlabel('False Positive Rate')\n",
    "plt.ylabel('True Positive Rate')\n",
    "plt.title('Receiver Operating Characteristic')\n",
    "plt.legend(loc='lower right')\n",
    "plt.show()"
   ]
  },
  {
   "cell_type": "markdown",
   "id": "7f0c8faa-4352-4a54-b68f-b31942b31474",
   "metadata": {},
   "source": [
    "### Feature importance extraction using SHAPley"
   ]
  },
  {
   "cell_type": "code",
   "execution_count": null,
   "id": "9017a04e-0048-4000-a5d8-8e8f77bea62a",
   "metadata": {},
   "outputs": [],
   "source": [
    "X_test_tensor = torch.tensor(X_test, dtype=torch.float32)\n",
    "\n",
    "# Create SHAP explainer (GradientExplainer for deep learning)\n",
    "explainer = shap.GradientExplainer(model, X_test_tensor)\n",
    "\n",
    "# Compute SHAP values\n",
    "shap_values = explainer.shap_values(X_test_tensor)"
   ]
  },
  {
   "cell_type": "code",
   "execution_count": null,
   "id": "e3c1ff5d-6d2e-4779-97d8-e0dbaab3a469",
   "metadata": {},
   "outputs": [],
   "source": [
    "print(type(shap_values))  # Should be a list for GradientExplainer\n",
    "print(len(shap_values))   # Should be 2 for binary classification (logits for class 0 and class 1)\n",
    "print(shap_values[0].shape, shap_values[1].shape)  # Check each class's SHAP value shape\n",
    "print(X_test.shape)  # Check feature matrix shape"
   ]
  },
  {
   "cell_type": "code",
   "execution_count": null,
   "id": "0e59dee4-e1b7-4566-b1d1-3ff4ee02616f",
   "metadata": {},
   "outputs": [],
   "source": [
    "\n",
    "feature_names = df.drop(columns=[\"Has Vascular Dementia\"]).columns.to_list()\n",
    "\n",
    "shap_values = shap_values.squeeze()  # Remove unnecessary dimensions\n",
    "shap.summary_plot(shap_values, X_test, feature_names=feature_names)"
   ]
  }
 ],
 "metadata": {
  "kernelspec": {
   "display_name": "Python 3 (ipykernel)",
   "language": "python",
   "name": "python3"
  },
  "language_info": {
   "codemirror_mode": {
    "name": "ipython",
    "version": 3
   },
   "file_extension": ".py",
   "mimetype": "text/x-python",
   "name": "python",
   "nbconvert_exporter": "python",
   "pygments_lexer": "ipython3",
   "version": "3.10.16"
  }
 },
 "nbformat": 4,
 "nbformat_minor": 5
}
