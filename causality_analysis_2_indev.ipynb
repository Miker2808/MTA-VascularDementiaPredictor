{
 "cells": [
  {
   "cell_type": "code",
   "execution_count": null,
   "id": "cb6649ab-dfc1-46cb-bc22-6cc77c283383",
   "metadata": {},
   "outputs": [],
   "source": [
    "import numpy as np\n",
    "import pandas as pd\n",
    "import seaborn as sns\n",
    "import matplotlib.pyplot as plt\n",
    "from DataFields import DataFields\n",
    "from DataFields import DateReportedFields"
   ]
  },
  {
   "cell_type": "code",
   "execution_count": null,
   "id": "58990dd4-2fd5-43ee-8ff6-179f847d1661",
   "metadata": {},
   "outputs": [],
   "source": [
    "df_diagnosed = pd.read_csv(\"diagnosed_processed.csv\")\n",
    "df_undiagnosed = pd.read_csv(\"undiagnosed.csv\")"
   ]
  },
  {
   "cell_type": "code",
   "execution_count": null,
   "id": "02318905-b44b-42c9-ad98-d9bf71f39c92",
   "metadata": {},
   "outputs": [],
   "source": [
    "df = pd.concat([df_diagnosed, df_undiagnosed], ignore_index=True, sort=False)\n",
    "df = df[DateReportedFields]"
   ]
  },
  {
   "cell_type": "code",
   "execution_count": null,
   "id": "8c4e6d14-4740-485f-9a3a-2224ef576fdb",
   "metadata": {},
   "outputs": [],
   "source": [
    "# Converts fields from date to distance in years as a float to target_field\n",
    "def convert_time_distance(df, target_feature: str) -> pd.DataFrame:\n",
    "    df = df.copy()\n",
    "    \n",
    "    target_dates = pd.to_datetime(df[target_feature], errors='coerce')\n",
    "\n",
    "    df[target_feature] = target_dates.notna().map({True: 0.0, False: pd.NA})\n",
    "\n",
    "    for feature in df.columns:\n",
    "        if feature == target_feature:\n",
    "            continue\n",
    "        feature_dates = pd.to_datetime(df[feature], errors='coerce')\n",
    "        df[feature] = (target_dates - feature_dates).dt.days / 365.25\n",
    "\n",
    "    return df\n",
    "\n",
    "df = convert_time_distance(df, \"Vascular Dementia Report Date\")"
   ]
  },
  {
   "cell_type": "code",
   "execution_count": null,
   "id": "5b236ea0-f1f9-417e-962d-e656d6ed4d2c",
   "metadata": {},
   "outputs": [],
   "source": [
    "SENTINEL = 1000.0  # large value to represent \"not diagnosed\"\n",
    "df = df.fillna(SENTINEL).infer_objects(copy=False)"
   ]
  },
  {
   "cell_type": "code",
   "execution_count": null,
   "id": "188390c3-845a-4795-902b-2f6cd9786014",
   "metadata": {},
   "outputs": [],
   "source": [
    "model = PC()\n",
    "graph = model.predict(df)"
   ]
  },
  {
   "cell_type": "code",
   "execution_count": null,
   "id": "79a1a7b9-fe9d-4876-b7a9-adaa0386d8a6",
   "metadata": {},
   "outputs": [],
   "source": []
  }
 ],
 "metadata": {
  "kernelspec": {
   "display_name": "Python 3 (ipykernel)",
   "language": "python",
   "name": "python3"
  },
  "language_info": {
   "codemirror_mode": {
    "name": "ipython",
    "version": 3
   },
   "file_extension": ".py",
   "mimetype": "text/x-python",
   "name": "python",
   "nbconvert_exporter": "python",
   "pygments_lexer": "ipython3",
   "version": "3.10.13"
  }
 },
 "nbformat": 4,
 "nbformat_minor": 5
}
