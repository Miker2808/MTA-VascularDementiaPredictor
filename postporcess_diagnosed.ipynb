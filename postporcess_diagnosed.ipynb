{
 "cells": [
  {
   "cell_type": "code",
   "execution_count": null,
   "id": "aa21c2a1-2110-4d2d-8ffe-3b2c659e6031",
   "metadata": {},
   "outputs": [],
   "source": [
    "import numpy as np\n",
    "import pandas as pd\n",
    "import matplotlib.pyplot as plt\n",
    "from DataFields import DataFields\n",
    "from DataFields import DateReportedFields\n",
    "from ProjectFunctions import get_columns_from_chunk\n",
    "from ProjectFunctions import convert_date_to_binary\n",
    "from ProjectFunctions import count_na_in_dataframe\n",
    "from ProjectFunctions import count_na_and_negative\n",
    "from ProjectFunctions import one_hot_encode_vascular_problems\n",
    "from ProjectFunctions import drop_rows_with_na_greater_than\n",
    "from ProjectFunctions import map_education_levels, map_vascular_levels\n"
   ]
  },
  {
   "cell_type": "code",
   "execution_count": null,
   "id": "fb8553b2-3544-4ee6-b7be-998d2691c25f",
   "metadata": {
    "scrolled": true
   },
   "outputs": [],
   "source": [
    "diagnosed_df = pd.read_csv(\"diagnosed.csv\")\n",
    "\n",
    "# Some fields report diagnosis by assigning the diagnosis date, while NA implies undiagnosed.\n",
    "# convert features specified in \"DateRportedFields\" from date values, to binary\n",
    "# meaning: NA = 0, Any date in range (see function) as 1\n",
    "#diagnosed_df = convert_date_to_binary(diagnosed_df, DateReportedFields)\n",
    "\n",
    "# Count number of NA values per feature.\n",
    "count_na_in_dataframe(diagnosed_df, exclude=DateReportedFields)"
   ]
  },
  {
   "cell_type": "markdown",
   "id": "52536273-502d-4228-97a9-b46f03c67312",
   "metadata": {},
   "source": [
    "#### The following fields were removed due to significant count of NA values:\n",
    "* Oestradiol\n",
    "* Rheumatoid factor\n",
    "* Recent trouble concentrating on things\n",
    "* Bipolar or Major Depression\n",
    "* Ever had prolonged feelings of sadness or depression"
   ]
  },
  {
   "cell_type": "markdown",
   "id": "5fcd3154-91ad-49c7-8c23-e8dc05edc2e2",
   "metadata": {},
   "source": [
    "#### Map education and vascular problems"
   ]
  },
  {
   "cell_type": "code",
   "execution_count": null,
   "id": "8af4fb8b-013d-4d1e-9116-2a33b26af739",
   "metadata": {},
   "outputs": [],
   "source": [
    "\n",
    "# map education in increasing hierarchy\n",
    "diagnosed_df = map_education_levels(diagnosed_df)\n",
    "\n",
    "# map vascular problems to meaningful values\n",
    "diagnosed_df[\"Report of vascular problems\"] = diagnosed_df[\"Report of vascular problems\"].replace({-7: 0, -3: pd.NA})\n",
    "\n",
    "diagnosed_df.to_csv(\"diagnosed_processed.csv\", index=False)"
   ]
  },
  {
   "cell_type": "markdown",
   "id": "aec7d1c0-253d-41f0-aca5-ffb1cd20be85",
   "metadata": {},
   "source": [
    "#### Histogram of patients by NA values"
   ]
  },
  {
   "cell_type": "code",
   "execution_count": null,
   "id": "745d29b2-cf92-4795-a9dc-fd416b688a42",
   "metadata": {},
   "outputs": [],
   "source": [
    "\n",
    "# plot a histogram out of patients to see how many patients miss a lot of data, and which not much.\n",
    "def plot_na_histogram(df):\n",
    "    na_counts = df.isna().sum(axis=1)  # Count NA values per row\n",
    "    bin_size = 5\n",
    "    max_na = na_counts.max()\n",
    "    bins = list(range(0, max_na + bin_size, bin_size))\n",
    "    plt.figure(figsize=(10, 6))\n",
    "    plt.hist(na_counts, bins=bins, edgecolor='black', alpha=0.7)\n",
    "    plt.xlabel('Number of NA values per row')\n",
    "    plt.ylabel('Frequency')\n",
    "    plt.title('Histogram of NA Counts per Row')\n",
    "    plt.xticks(bins)\n",
    "    plt.grid(axis='y', linestyle='--', alpha=0.7)\n",
    "    plt.show()\n",
    "\n",
    "\n",
    "df = pd.read_csv(\"diagnosed_processed.csv\")\n",
    "\n",
    "plot_na_histogram(df)"
   ]
  },
  {
   "cell_type": "markdown",
   "id": "0aeb9f5c-3724-434b-80f6-1e234d23e111",
   "metadata": {},
   "source": [
    "#### Remove patients with too many NA values"
   ]
  },
  {
   "cell_type": "code",
   "execution_count": null,
   "id": "0bfa8a25-c378-4725-918a-943a224575f0",
   "metadata": {},
   "outputs": [],
   "source": [
    "\n",
    "df = pd.read_csv(\"diagnosed_processed.csv\")\n",
    "df = df.drop(columns=[\"id\"])\n",
    "numeric_cols = df.select_dtypes(include=['number']).columns\n",
    "df[numeric_cols] = df[numeric_cols].mask(df[numeric_cols] < 0)\n",
    "df = drop_rows_with_na_greater_than(df, 45)\n",
    "df.describe()\n"
   ]
  },
  {
   "cell_type": "code",
   "execution_count": null,
   "id": "ebfbd17c-1267-459f-97b0-cd8e458ed8b0",
   "metadata": {},
   "outputs": [],
   "source": [
    "df.to_csv(\"diagnosed_processed.csv\", index=False)"
   ]
  },
  {
   "cell_type": "markdown",
   "id": "dfca7e8d-da2b-4d6a-ad48-709a91a838aa",
   "metadata": {},
   "source": [
    "#### Estimate new values for missing columns using Iterative Imputer (Optinal for some xgb)"
   ]
  },
  {
   "cell_type": "code",
   "execution_count": null,
   "id": "15b39586-cbdf-4986-87d0-497e7e1fcbb6",
   "metadata": {},
   "outputs": [],
   "source": [
    "from sklearn.experimental import enable_iterative_imputer\n",
    "from sklearn.impute import IterativeImputer\n",
    "from sklearn.ensemble import RandomForestRegressor\n",
    "import time"
   ]
  },
  {
   "cell_type": "code",
   "execution_count": null,
   "id": "a537f416-fa37-4bca-a547-4e6f93b87617",
   "metadata": {},
   "outputs": [],
   "source": [
    "df = pd.read_csv(\"diagnosed_processed.csv\")\n",
    "\n",
    "imputer = IterativeImputer(max_iter=50)\n",
    "df_imputed = pd.DataFrame(imputer.fit_transform(df), columns=df.columns)\n",
    "\n",
    "df_imputed.to_csv(\"diagnosed_imputed.csv\", index=False)\n",
    "df_imputed.describe()"
   ]
  }
 ],
 "metadata": {
  "kernelspec": {
   "display_name": "Python 3 (ipykernel)",
   "language": "python",
   "name": "python3"
  },
  "language_info": {
   "codemirror_mode": {
    "name": "ipython",
    "version": 3
   },
   "file_extension": ".py",
   "mimetype": "text/x-python",
   "name": "python",
   "nbconvert_exporter": "python",
   "pygments_lexer": "ipython3",
   "version": "3.10.13"
  }
 },
 "nbformat": 4,
 "nbformat_minor": 5
}
