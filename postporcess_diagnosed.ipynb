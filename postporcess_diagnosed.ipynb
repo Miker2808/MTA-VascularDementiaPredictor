{
 "cells": [
  {
   "cell_type": "code",
   "execution_count": null,
   "id": "aa21c2a1-2110-4d2d-8ffe-3b2c659e6031",
   "metadata": {},
   "outputs": [],
   "source": [
    "import numpy as np\n",
    "import pandas as pd\n",
    "import matplotlib.pyplot as plt\n",
    "from DataFields import DataFields\n",
    "from DataFields import DateReportedFields\n",
    "from UtilityFunctions import get_columns_from_chunk\n",
    "from UtilityFunctions import convert_date_to_binary\n",
    "from UtilityFunctions import count_na_in_dataframe"
   ]
  },
  {
   "cell_type": "code",
   "execution_count": null,
   "id": "fb8553b2-3544-4ee6-b7be-998d2691c25f",
   "metadata": {},
   "outputs": [],
   "source": [
    "diagnosed_df = pd.read_csv(\"diagnosed.csv\")\n",
    "\n",
    "# convert field which use write date a disease is reported and mark it as true or false\n",
    "# to determine if a person was diagnosed with the diseas or not rather than when.\n",
    "diagnosed_df = convert_date_to_binary(diagnosed_df, DateReportedFields)\n",
    "\n",
    "diagnosed_df = diagnosed_df.drop(columns=[\"Unnamed: 0.1\", \"Unnamed: 0\", \"id\"])\n",
    "count_na_in_dataframe(diagnosed_df)"
   ]
  },
  {
   "cell_type": "raw",
   "id": "c40095d7-73ba-4ea9-ba68-8cbdec218a64",
   "metadata": {},
   "source": [
    "The following fields were removed due to significant count of NA values:\n",
    "Oestradiol\n",
    "Rheumatoid factor\n",
    "Recent trouble concentrating on things\n",
    "Bipolar or Major Depression\n",
    "Ever had prolonged feelings of sadness or depression"
   ]
  },
  {
   "cell_type": "code",
   "execution_count": null,
   "id": "59145e61-aac0-4347-9acb-441d544d9ade",
   "metadata": {},
   "outputs": [],
   "source": [
    "cols = [\"Oestradiol\", \"Rheumatoid factor\", \"Recent trouble concentrating on things\",\n",
    "        \"Bipolar or Major Depression\", \"Ever had prolonged feelings of sadness or depression\"]\n",
    "\n",
    "diagnosed_df = diagnosed_df.drop(columns=cols)"
   ]
  },
  {
   "cell_type": "code",
   "execution_count": null,
   "id": "9481dbd4-0179-4bb7-88f2-7a8209e59e3f",
   "metadata": {},
   "outputs": [],
   "source": [
    "diagnosed_df.to_csv(\"diagnosed_processed.csv\")"
   ]
  }
 ],
 "metadata": {
  "kernelspec": {
   "display_name": "Python 3 (ipykernel)",
   "language": "python",
   "name": "python3"
  },
  "language_info": {
   "codemirror_mode": {
    "name": "ipython",
    "version": 3
   },
   "file_extension": ".py",
   "mimetype": "text/x-python",
   "name": "python",
   "nbconvert_exporter": "python",
   "pygments_lexer": "ipython3",
   "version": "3.10.16"
  }
 },
 "nbformat": 4,
 "nbformat_minor": 5
}
