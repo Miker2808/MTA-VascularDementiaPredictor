{
 "cells": [
  {
   "cell_type": "code",
   "execution_count": null,
   "id": "aa21c2a1-2110-4d2d-8ffe-3b2c659e6031",
   "metadata": {},
   "outputs": [],
   "source": [
    "import numpy as np\n",
    "import pandas as pd\n",
    "import matplotlib.pyplot as plt\n",
    "from DataFields import DataFields\n",
    "from DataFields import DateReportedFields\n",
    "from ProjectFunctions import get_columns_from_chunk\n",
    "from ProjectFunctions import convert_date_to_binary\n",
    "from ProjectFunctions import count_na_in_dataframe\n",
    "from ProjectFunctions import count_na_and_negative"
   ]
  },
  {
   "cell_type": "code",
   "execution_count": null,
   "id": "fb8553b2-3544-4ee6-b7be-998d2691c25f",
   "metadata": {},
   "outputs": [],
   "source": [
    "diagnosed_df = pd.read_csv(\"diagnosed.csv\")\n",
    "\n",
    "# convert field which use write date a disease is reported and mark it as true or false\n",
    "# to determine if a person was diagnosed with the diseas or not rather than when.\n",
    "diagnosed_df = convert_date_to_binary(diagnosed_df, DateReportedFields)\n",
    "\n",
    "count_na_in_dataframe(diagnosed_df)"
   ]
  },
  {
   "cell_type": "raw",
   "id": "c40095d7-73ba-4ea9-ba68-8cbdec218a64",
   "metadata": {},
   "source": [
    "The following fields were removed due to significant count of NA values:\n",
    "Oestradiol\n",
    "Rheumatoid factor\n",
    "Recent trouble concentrating on things\n",
    "Bipolar or Major Depression\n",
    "Ever had prolonged feelings of sadness or depression"
   ]
  },
  {
   "cell_type": "markdown",
   "id": "5fcd3154-91ad-49c7-8c23-e8dc05edc2e2",
   "metadata": {},
   "source": [
    "#### Post process Education column to convert into a meaningful info (higher number means better education)"
   ]
  },
  {
   "cell_type": "code",
   "execution_count": null,
   "id": "8af4fb8b-013d-4d1e-9116-2a33b26af739",
   "metadata": {},
   "outputs": [],
   "source": [
    "from ProjectFunctions import map_education_levels\n",
    "\n",
    "diagnosed_df = map_education_levels(diagnosed_df)"
   ]
  },
  {
   "cell_type": "markdown",
   "id": "c74e08e9-3e63-4b64-a9cc-ad3846343325",
   "metadata": {},
   "source": [
    "#### Post Process report of stroke negative values to 0"
   ]
  },
  {
   "cell_type": "code",
   "execution_count": null,
   "id": "1958e059-268e-48d6-a5d8-f083e084b536",
   "metadata": {},
   "outputs": [],
   "source": [
    "col_name = \"Report of Vascular problems\"\n",
    "# Replace -7 with 0 and -3 with NA\n",
    "diagnosed_df[col_name] = diagnosed_df[col_name].replace({-7: 0, -3: pd.NA})\n",
    "\n",
    "# Map severity levels\n",
    "severity_mapping = {\n",
    "    1: 3,  # Heart attack\n",
    "    2: 2,  # Angina\n",
    "    3: 3,  # Stroke\n",
    "    4: 1   # High blood pressure\n",
    "}\n",
    "\n",
    "diagnosed_df[col_name] = diagnosed_df[col_name].map(lambda x: severity_mapping.get(x, x))\n"
   ]
  },
  {
   "cell_type": "code",
   "execution_count": null,
   "id": "9481dbd4-0179-4bb7-88f2-7a8209e59e3f",
   "metadata": {},
   "outputs": [],
   "source": [
    "diagnosed_df.to_csv(\"diagnosed_processed.csv\")"
   ]
  },
  {
   "cell_type": "markdown",
   "id": "aec7d1c0-253d-41f0-aca5-ffb1cd20be85",
   "metadata": {},
   "source": [
    "#### Understanding the loss of data, to see if NA distribution is uniform, or not."
   ]
  },
  {
   "cell_type": "code",
   "execution_count": null,
   "id": "745d29b2-cf92-4795-a9dc-fd416b688a42",
   "metadata": {},
   "outputs": [],
   "source": [
    "import matplotlib.pyplot as plt\n",
    "\n",
    "# plot a histogram out of patients to see how many patients miss a lot of data, and which not much.\n",
    "def plot_na_histogram(df):\n",
    "    na_counts = df.isna().sum(axis=1)  # Count NA values per row\n",
    "    \n",
    "    bin_size = 5\n",
    "    max_na = na_counts.max()\n",
    "    bins = list(range(0, max_na + bin_size, bin_size))\n",
    "    \n",
    "    plt.figure(figsize=(10, 6))\n",
    "    plt.hist(na_counts, bins=bins, edgecolor='black', alpha=0.7)\n",
    "    plt.xlabel('Number of NA values per row')\n",
    "    plt.ylabel('Frequency')\n",
    "    plt.title('Histogram of NA Counts per Row')\n",
    "    plt.xticks(bins)\n",
    "    plt.grid(axis='y', linestyle='--', alpha=0.7)\n",
    "    plt.show()\n",
    "\n",
    "df = pd.read_csv(\"diagnosed_processed.csv\")\n",
    "\n",
    "plot_na_histogram(df)\n",
    "\n"
   ]
  },
  {
   "cell_type": "markdown",
   "id": "0aeb9f5c-3724-434b-80f6-1e234d23e111",
   "metadata": {},
   "source": [
    "#### Remove patients with too many NA values (more than 20)"
   ]
  },
  {
   "cell_type": "code",
   "execution_count": null,
   "id": "0bfa8a25-c378-4725-918a-943a224575f0",
   "metadata": {},
   "outputs": [],
   "source": [
    "def count_rows_with_na_greater_than(df, x):\n",
    "    na_counts = df.isna().sum(axis=1)\n",
    "    return (na_counts > x).sum()\n",
    "\n",
    "def drop_rows_with_na_greater_than(df, x):\n",
    "    na_counts = df.isna().sum(axis=1)\n",
    "    return df[na_counts <= x]\n",
    "\n",
    "df = pd.read_csv(\"diagnosed_processed.csv\")\n",
    "\n",
    "df = drop_rows_with_na_greater_than(df, 20)\n",
    "\n",
    "df.describe()"
   ]
  },
  {
   "cell_type": "code",
   "execution_count": null,
   "id": "ebfbd17c-1267-459f-97b0-cd8e458ed8b0",
   "metadata": {},
   "outputs": [],
   "source": [
    "df.to_csv(\"diagnosed_processed.csv\")"
   ]
  },
  {
   "cell_type": "markdown",
   "id": "dfca7e8d-da2b-4d6a-ad48-709a91a838aa",
   "metadata": {},
   "source": [
    "#### Estimate new values for missing columns using Iterative Imputer"
   ]
  },
  {
   "cell_type": "code",
   "execution_count": null,
   "id": "15b39586-cbdf-4986-87d0-497e7e1fcbb6",
   "metadata": {},
   "outputs": [],
   "source": [
    "from sklearn.experimental import enable_iterative_imputer\n",
    "from sklearn.impute import IterativeImputer\n",
    "from sklearn.ensemble import RandomForestRegressor"
   ]
  },
  {
   "cell_type": "code",
   "execution_count": null,
   "id": "bed07291-7632-4ae0-b188-60afe9c163e3",
   "metadata": {},
   "outputs": [],
   "source": [
    "df = pd.read_csv(\"diagnosed_processed.csv\")\n",
    "df = df.drop(columns=[\"Unnamed: 0.2\",\"Unnamed: 0.1\",\"Unnamed: 0\",\"id\"])"
   ]
  },
  {
   "cell_type": "code",
   "execution_count": null,
   "id": "a537f416-fa37-4bca-a547-4e6f93b87617",
   "metadata": {},
   "outputs": [],
   "source": [
    "import time\n",
    "\n",
    "# Note: At 100 estimators each iteration is 2.25 minutes.\n",
    "\n",
    "start_time = time.time()\n",
    "\n",
    "estimator = RandomForestRegressor(\n",
    "    n_estimators=50,\n",
    "    max_depth = 15,\n",
    "    n_jobs = -1 # use all available threads\n",
    ")\n",
    "\n",
    "imputer = IterativeImputer(estimator=estimator, max_iter=30)\n",
    "df_imputed = pd.DataFrame(imputer.fit_transform(df), columns=df.columns)\n",
    "\n",
    "print(f\"Code execution time: {(time.time() - start_time):.4f} seconds\")\n",
    "\n",
    "df_imputed.to_csv(\"diagnosed_imputed_2.csv\")"
   ]
  },
  {
   "cell_type": "code",
   "execution_count": null,
   "id": "2c2f6c8c-a895-4835-ad6e-02d94fac4aeb",
   "metadata": {},
   "outputs": [],
   "source": [
    "df_imputed.describe()"
   ]
  }
 ],
 "metadata": {
  "kernelspec": {
   "display_name": "Python 3 (ipykernel)",
   "language": "python",
   "name": "python3"
  },
  "language_info": {
   "codemirror_mode": {
    "name": "ipython",
    "version": 3
   },
   "file_extension": ".py",
   "mimetype": "text/x-python",
   "name": "python",
   "nbconvert_exporter": "python",
   "pygments_lexer": "ipython3",
   "version": "3.10.16"
  }
 },
 "nbformat": 4,
 "nbformat_minor": 5
}
